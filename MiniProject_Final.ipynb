{
 "cells": [
  {
   "cell_type": "markdown",
   "metadata": {},
   "source": [
    "# Mini-Lab: Logistic Regression and SVMs\n",
    "\n",
    "## Names:\n",
    "David Samuel\n",
    "James Hancock\n",
    "Alexandra Fisher\n",
    "Remy Lagrois\n",
    "\n",
    "This notebook will illustrate tools used for classification of the MNIST handwritten digits data set.  \n",
    "\n",
    "We will first split the training data into testing and training objects using sklearn, then scale the data, and analyze weights using logistic regression.  We will then use support vector machines using a linear kernel and compare the speed and accuracy of each of these classification methods. "
   ]
  },
  {
   "cell_type": "markdown",
   "metadata": {},
   "source": [
    "# The Business Justification\n",
    " This data was collected in order to train a prediction algorithm to correctly identify handwritten digits from 0 to 9 from the MNIST training set.  The data was sourced from Kaggle’s Digit Recognizer competition at the following site: https://www.kaggle.com/c/digit-recognizer/data.  The objective of the competition is to build a fast and effective process for classifying and identifying handwritten characters using computer image processing, and machine learning. By measuring the percentage correctly predicted from the test set, we can gauge the effectiveness of the algorithm.  Achieving a 95% or above accuracy is considered a success rate. Since Kaggle is an open project competition, it fosters various types of collaboration and algorithm benchmarking, this is a  great way to enhance our Data Science learning.\n",
    "    hand written digit recognition has numerous applications in computer vision.  Banks use automatic cashing of hand written checks, sorting mail by zipcode, and potentially reconstructing shredded files.  Further research into handwritten alphabet recognition has lead to novel advancements such as Google Maps' use of gps and streetview images of actual home address numbers to locate street addresses."
   ]
  },
  {
   "cell_type": "markdown",
   "metadata": {},
   "source": [
    "# The Data\n",
    "There are 2 data sets to work with, the first being the training set, and the second, smaller test set. The training set is comprised of 42,000 rows each representing handwritten digits with 784 pixels or 28 pixels squared.  The training set also includes a label for each observation.  The pixel columns are indexed from pixel0 to pixel783 as a minified RGB value; ordinal measures of color between 0 and 255 inclusive.  Because these images are greyscale, all red, green, and blue values are equal to the same ordinal number.  A solid black, for example, would have an (R,G,B) value of (0, 0, 0), and to conserve memory, this value is stored as a singleton pixel equal to (0).  In contrast, white holds a value of (255); and greyscale is an integer value anywhere in this range.  Each row is identified by the first column “label”, which is a nominal integer value, 0 through 9; these are the 10 classes of digits contained in the set.  These labels will be used as class variables for training.  \n",
    "    The test data set is 28,000 rows, with labels omitted, and independent of the the training data."
   ]
  },
  {
   "cell_type": "markdown",
   "metadata": {},
   "source": [
    "Loading the data. Due to the extremely large amount of dimensions involved in this data set, it was decided to reduce the volume of rows to only 1000. This is due to the fact that a logistic regression will perfrom a lot of functions within memory."
   ]
  },
  {
   "cell_type": "code",
   "execution_count": 1,
   "metadata": {
    "collapsed": false
   },
   "outputs": [
    {
     "name": "stdout",
     "output_type": "stream",
     "text": [
      "<class 'pandas.core.frame.DataFrame'>\n",
      "RangeIndex: 1000 entries, 0 to 999\n",
      "Columns: 785 entries, label to pixel783\n",
      "dtypes: int64(785)\n",
      "memory usage: 6.0 MB\n"
     ]
    }
   ],
   "source": [
    "import pandas as pd\n",
    "import numpy as np\n",
    "from __future__ import print_function\n",
    "\n",
    "\n",
    "df = pd.read_csv('data/train.csv', nrows=1000) \n",
    "\n",
    "df.info()"
   ]
  },
  {
   "cell_type": "markdown",
   "metadata": {},
   "source": [
    "# As shown in the data description below, the 1000 row sample of the data does appear to be sufficient as the mean, and standard deviation are very similar to that of Assignement #1"
   ]
  },
  {
   "cell_type": "code",
   "execution_count": 2,
   "metadata": {
    "collapsed": false
   },
   "outputs": [
    {
     "data": {
      "text/plain": [
       "count    1000.000000\n",
       "mean        4.401000\n",
       "std         2.888692\n",
       "min         0.000000\n",
       "25%         2.000000\n",
       "50%         4.000000\n",
       "75%         7.000000\n",
       "max         9.000000\n",
       "Name: label, dtype: float64"
      ]
     },
     "execution_count": 2,
     "metadata": {},
     "output_type": "execute_result"
    }
   ],
   "source": [
    "df['label'].describe().transpose()"
   ]
  },
  {
   "cell_type": "markdown",
   "metadata": {
    "collapsed": false
   },
   "source": [
    "# Logistic Regression\n",
    "The logistic regression is designed to help predict a binary outcome on a categorical data set. For the data set used the categories will consist of the general pixel positions of the handwritten letter data."
   ]
  },
  {
   "cell_type": "markdown",
   "metadata": {},
   "source": [
    "The below code is used to get the correct labels for each of the variables of the data set, as well as assure that the X and Y axes are representive of the data model for plotting purposes. A Shufflesplit is also perfromed on the data set, in order to split data into training and test sets."
   ]
  },
  {
   "cell_type": "code",
   "execution_count": 3,
   "metadata": {
    "collapsed": false
   },
   "outputs": [
    {
     "name": "stdout",
     "output_type": "stream",
     "text": [
      "ShuffleSplit(1000, n_iter=3, test_size=0.2, random_state=None)\n"
     ]
    }
   ],
   "source": [
    "from sklearn.cross_validation import ShuffleSplit\n",
    "\n",
    "if 'label' in df:\n",
    "    y = df['label'].values\n",
    "    del df['label'] \n",
    "    X = df.values \n",
    "\n",
    "num_cv_iterations = 3\n",
    "num_instances = len(y)\n",
    "cv_object = ShuffleSplit(n=num_instances,\n",
    "                         n_iter=num_cv_iterations,\n",
    "                         test_size  = 0.2)\n",
    "                         \n",
    "print(cv_object)"
   ]
  },
  {
   "cell_type": "markdown",
   "metadata": {},
   "source": [
    "Below a logistic regression is run with two variations included in order to assure that the randomized sample used in each interation was representitive of the sample. Within the logistic regression the train indices are defined as well as the accuracy scores for each iteration. \n",
    "\n",
    "The two iterations present a 83% and 81.5% respectively. Meaning that the two iterations are fairly similar in nature to one another."
   ]
  },
  {
   "cell_type": "code",
   "execution_count": 4,
   "metadata": {
    "collapsed": false
   },
   "outputs": [
    {
     "name": "stdout",
     "output_type": "stream",
     "text": [
      "====Iteration 0  ====\n",
      "accuracy 0.83\n",
      "confusion matrix\n",
      " [[24  0  0  1  0  0  2  0  0  0]\n",
      " [ 0 12  0  0  0  0  0  0  1  0]\n",
      " [ 0  0 24  1  0  0  1  1  0  2]\n",
      " [ 0  0  0 14  0  0  0  1  2  1]\n",
      " [ 0  0  0  0 16  0  0  0  1  4]\n",
      " [ 1  0  0  0  0 17  1  1  3  1]\n",
      " [ 0  0  0  0  0  0 17  0  0  0]\n",
      " [ 0  0  0  0  2  0  1 17  0  0]\n",
      " [ 0  1  0  0  0  1  0  0 14  1]\n",
      " [ 0  0  1  1  0  0  0  1  0 11]]\n",
      "====Iteration 1  ====\n",
      "accuracy 0.76\n",
      "confusion matrix\n",
      " [[15  0  0  0  0  0  0  0  0  0]\n",
      " [ 0 18  0  0  0  0  1  0  0  1]\n",
      " [ 2  1 22  2  0  0  1  1  0  1]\n",
      " [ 0  0  0 12  0  0  0  0  0  1]\n",
      " [ 0  0  0  0 15  0  0  1  1 10]\n",
      " [ 1  1  0  0  0 13  2  0  3  0]\n",
      " [ 0  0  1  0  0  0 16  0  1  0]\n",
      " [ 0  1  0  0  1  0  0 17  0  0]\n",
      " [ 0  1  1  2  0  3  0  0 11  2]\n",
      " [ 0  0  0  1  2  1  0  0  1 13]]\n",
      "====Iteration 2  ====\n",
      "accuracy 0.825\n",
      "confusion matrix\n",
      " [[11  0  0  0  0  0  0  0  0  0]\n",
      " [ 0 25  0  0  0  0  0  0  0  1]\n",
      " [ 0  1 20  0  1  0  1  0  0  0]\n",
      " [ 0  0  2 19  0  2  0  0  0  0]\n",
      " [ 0  0  0  0 17  0  0  2  0  1]\n",
      " [ 0  0  0  1  0 13  1  0  0  0]\n",
      " [ 1  0  2  0  3  1 19  0  1  0]\n",
      " [ 0  1  0  0  0  0  0 17  0  3]\n",
      " [ 2  0  0  2  0  1  0  0 10  0]\n",
      " [ 0  0  0  0  2  1  1  1  0 14]]\n"
     ]
    }
   ],
   "source": [
    "from sklearn.linear_model import LogisticRegression\n",
    "from sklearn import metrics as mt\n",
    "lr_clf = LogisticRegression(penalty='l2', C=1.0, class_weight=None)\n",
    "\n",
    "\n",
    "\n",
    "iter_num=0\n",
    "for train_indices, test_indices in cv_object: \n",
    "    X_train = X[train_indices]\n",
    "    y_train = y[train_indices]\n",
    "    \n",
    "    X_test = X[test_indices]\n",
    "    y_test = y[test_indices]\n",
    "\n",
    "    lr_clf.fit(X_train,y_train) \n",
    "    y_hat = lr_clf.predict(X_test) \n",
    "\n",
    "    acc = mt.accuracy_score(y_test,y_hat)\n",
    "    conf = mt.confusion_matrix(y_test,y_hat)\n",
    "    print(\"====Iteration\",iter_num,\" ====\")\n",
    "    print(\"accuracy\", acc )\n",
    "    print(\"confusion matrix\\n\",conf)\n",
    "    iter_num+=1"
   ]
  },
  {
   "cell_type": "markdown",
   "metadata": {},
   "source": [
    "The below logistic regression is the same test with just a shorter code set. The accuracies listed in the output below are also very similar to those we recieved from the previous problem."
   ]
  },
  {
   "cell_type": "code",
   "execution_count": 5,
   "metadata": {
    "collapsed": false
   },
   "outputs": [
    {
     "name": "stdout",
     "output_type": "stream",
     "text": [
      "time:  1.46399998665\n",
      "[ 0.81   0.805  0.805]\n"
     ]
    }
   ],
   "source": [
    "from sklearn.linear_model import LogisticRegression\n",
    "from sklearn import metrics as mt\n",
    "\n",
    "import time\n",
    "start = time.time()\n",
    "\n",
    "lr_clf = LogisticRegression(penalty='l2', C=1.0, class_weight=None) \n",
    "from sklearn.cross_validation import cross_val_score\n",
    "accuracies = cross_val_score(lr_clf, X, y=y, cv=cv_object) \n",
    "print('time: ', time.time()-start)\n",
    "print(accuracies)"
   ]
  },
  {
   "cell_type": "markdown",
   "metadata": {},
   "source": [
    "Below is a widget that helps one determine the various accuracy percentages given various levels of cost. We can see that the accuracy stays reletively constant, except that the accuracy goes down as the cost is lowered on the slider."
   ]
  },
  {
   "cell_type": "code",
   "execution_count": 6,
   "metadata": {
    "collapsed": false
   },
   "outputs": [
    {
     "name": "stdout",
     "output_type": "stream",
     "text": [
      "[ 0.83   0.785  0.825]\n"
     ]
    },
    {
     "data": {
      "text/plain": [
       "<function __main__.lr_explor>"
      ]
     },
     "execution_count": 6,
     "metadata": {},
     "output_type": "execute_result"
    }
   ],
   "source": [
    "from ipywidgets import widgets as wd\n",
    "\n",
    "def lr_explor(cost):\n",
    "    lr_clf = LogisticRegression(penalty='l2', C=cost, class_weight=None)\n",
    "    accuracies = cross_val_score(lr_clf,X,y=y,cv=cv_object) \n",
    "    print(accuracies)\n",
    "\n",
    "wd.interact(lr_explor,cost=(0.001,5.0,0.05))"
   ]
  },
  {
   "cell_type": "markdown",
   "metadata": {
    "collapsed": false
   },
   "source": [
    "Below a standard scaler is run. The standard scaler is designed to standardize features by removing the mean and scaling to unit variance. Due to the fact that this data set has a very large amount of elements the findings from this test will be fairly ambiguous, however it is important to note that the values do step down when moving down the scale."
   ]
  },
  {
   "cell_type": "code",
   "execution_count": 7,
   "metadata": {
    "collapsed": false
   },
   "outputs": [
    {
     "name": "stderr",
     "output_type": "stream",
     "text": [
      "C:\\Anaconda2\\lib\\site-packages\\sklearn\\utils\\validation.py:420: DataConversionWarning: Data with input dtype int64 was converted to float64 by StandardScaler.\n",
      "  warnings.warn(msg, DataConversionWarning)\n",
      "C:\\Anaconda2\\lib\\site-packages\\sklearn\\utils\\validation.py:420: DataConversionWarning: Data with input dtype int64 was converted to float64 by StandardScaler.\n",
      "  warnings.warn(msg, DataConversionWarning)\n",
      "C:\\Anaconda2\\lib\\site-packages\\sklearn\\utils\\validation.py:420: DataConversionWarning: Data with input dtype int64 was converted to float64 by StandardScaler.\n",
      "  warnings.warn(msg, DataConversionWarning)\n"
     ]
    },
    {
     "name": "stdout",
     "output_type": "stream",
     "text": [
      "accuracy: 0.78\n",
      "[[11  0  0  0  0  0  0  0  0  0]\n",
      " [ 0 23  0  1  0  0  0  0  1  1]\n",
      " [ 0  0 20  1  1  0  0  1  0  0]\n",
      " [ 0  0  3 18  0  1  0  1  0  0]\n",
      " [ 0  0  1  1 17  0  0  0  0  1]\n",
      " [ 0  1  0  2  0 11  1  0  0  0]\n",
      " [ 1  0  2  0  3  0 20  0  1  0]\n",
      " [ 1  2  0  0  0  0  0 15  0  3]\n",
      " [ 2  0  1  1  0  1  1  0  9  0]\n",
      " [ 0  1  1  0  1  0  1  3  0 12]]\n",
      "pixel0 has weight of 0.0\n",
      "pixel1 has weight of 0.0\n",
      "pixel2 has weight of 0.0\n",
      "pixel3 has weight of 0.0\n",
      "pixel4 has weight of 0.0\n",
      "pixel5 has weight of 0.0\n",
      "pixel6 has weight of 0.0\n",
      "pixel7 has weight of 0.0\n",
      "pixel8 has weight of 0.0\n",
      "pixel9 has weight of 0.0\n",
      "pixel10 has weight of 0.0\n",
      "pixel11 has weight of 0.0\n",
      "pixel12 has weight of 0.0\n",
      "pixel13 has weight of 0.0\n",
      "pixel14 has weight of 0.0\n",
      "pixel15 has weight of 0.0\n",
      "pixel16 has weight of 0.0\n",
      "pixel17 has weight of 0.0\n",
      "pixel18 has weight of 0.0\n",
      "pixel19 has weight of 0.0\n",
      "pixel20 has weight of 0.0\n",
      "pixel21 has weight of 0.0\n",
      "pixel22 has weight of 0.0\n",
      "pixel23 has weight of 0.0\n",
      "pixel24 has weight of 0.0\n",
      "pixel25 has weight of 0.0\n",
      "pixel26 has weight of 0.0\n",
      "pixel27 has weight of 0.0\n",
      "pixel28 has weight of 0.0\n",
      "pixel29 has weight of 0.0\n",
      "pixel30 has weight of 0.0\n",
      "pixel31 has weight of 0.0\n",
      "pixel32 has weight of 0.0\n",
      "pixel33 has weight of 0.0\n",
      "pixel34 has weight of 0.0\n",
      "pixel35 has weight of 0.0\n",
      "pixel36 has weight of 0.0\n",
      "pixel37 has weight of 0.0223079373138\n",
      "pixel38 has weight of 0.0223079373138\n",
      "pixel39 has weight of 0.0\n",
      "pixel40 has weight of 0.0\n",
      "pixel41 has weight of 0.0\n",
      "pixel42 has weight of 0.0\n",
      "pixel43 has weight of 0.0\n",
      "pixel44 has weight of 0.0\n",
      "pixel45 has weight of 0.0\n",
      "pixel46 has weight of 0.0\n",
      "pixel47 has weight of 0.0\n",
      "pixel48 has weight of 0.0\n",
      "pixel49 has weight of 0.0\n",
      "pixel50 has weight of 0.0\n",
      "pixel51 has weight of 0.0\n",
      "pixel52 has weight of 0.0\n",
      "pixel53 has weight of 0.0\n",
      "pixel54 has weight of 0.0\n",
      "pixel55 has weight of 0.0\n",
      "pixel56 has weight of 0.0\n",
      "pixel57 has weight of 0.0\n",
      "pixel58 has weight of 0.0\n",
      "pixel59 has weight of 0.0\n",
      "pixel60 has weight of 0.0\n",
      "pixel61 has weight of -0.00912314981593\n",
      "pixel62 has weight of 0.0\n",
      "pixel63 has weight of -0.0440964898743\n",
      "pixel64 has weight of -0.0440964898743\n",
      "pixel65 has weight of -0.00531839283715\n",
      "pixel66 has weight of -0.00879581752092\n",
      "pixel67 has weight of -0.0110810365678\n",
      "pixel68 has weight of 0.0223616439248\n",
      "pixel69 has weight of 0.0184294369876\n",
      "pixel70 has weight of 0.0071153844442\n",
      "pixel71 has weight of -0.00583929953077\n",
      "pixel72 has weight of -0.0110745997894\n",
      "pixel73 has weight of -0.0303549183114\n",
      "pixel74 has weight of -0.0373552229374\n",
      "pixel75 has weight of -0.00545054918434\n",
      "pixel76 has weight of 0.0247625605901\n",
      "pixel77 has weight of 0.0182684515397\n",
      "pixel78 has weight of -0.0267628701823\n",
      "pixel79 has weight of -0.0301419358111\n",
      "pixel80 has weight of 0.0\n",
      "pixel81 has weight of 0.0\n",
      "pixel82 has weight of 0.0\n",
      "pixel83 has weight of 0.0\n",
      "pixel84 has weight of 0.0\n",
      "pixel85 has weight of 0.0\n",
      "pixel86 has weight of 0.0\n",
      "pixel87 has weight of 0.0\n",
      "pixel88 has weight of 0.0\n",
      "pixel89 has weight of 0.0215257181319\n",
      "pixel90 has weight of 0.035899855399\n",
      "pixel91 has weight of -0.0327436170719\n",
      "pixel92 has weight of -0.00180330502217\n",
      "pixel93 has weight of 0.00170849165999\n",
      "pixel94 has weight of 0.0268694698757\n",
      "pixel95 has weight of -0.0172576861667\n",
      "pixel96 has weight of -0.00343116837452\n",
      "pixel97 has weight of -0.0458303218055\n",
      "pixel98 has weight of -0.0942449338072\n",
      "pixel99 has weight of -0.0233299448586\n",
      "pixel100 has weight of 0.0010781858256\n",
      "pixel101 has weight of -0.0522449172252\n",
      "pixel102 has weight of -0.117009521191\n",
      "pixel103 has weight of -0.085935378728\n",
      "pixel104 has weight of -0.0729214612389\n",
      "pixel105 has weight of -0.0289781150489\n",
      "pixel106 has weight of -0.055299231132\n",
      "pixel107 has weight of 0.0192331624552\n",
      "pixel108 has weight of -0.0178507987108\n",
      "pixel109 has weight of 0.0\n",
      "pixel110 has weight of 0.0\n",
      "pixel111 has weight of 0.0\n",
      "pixel112 has weight of 0.0\n",
      "pixel113 has weight of 0.0\n",
      "pixel114 has weight of 0.0\n",
      "pixel115 has weight of 0.0\n",
      "pixel116 has weight of 0.0\n",
      "pixel117 has weight of 0.0375819225147\n",
      "pixel118 has weight of -0.0225732505746\n",
      "pixel119 has weight of -0.0332737964426\n",
      "pixel120 has weight of -0.0459416419758\n",
      "pixel121 has weight of -0.00613810643555\n",
      "pixel122 has weight of 0.0136366684493\n",
      "pixel123 has weight of -0.0393366350176\n",
      "pixel124 has weight of -0.0257077214199\n",
      "pixel125 has weight of -0.0320249613454\n",
      "pixel126 has weight of -0.0393583884405\n",
      "pixel127 has weight of -0.0139956656727\n",
      "pixel128 has weight of 0.0712879438573\n",
      "pixel129 has weight of 0.0481649324106\n",
      "pixel130 has weight of 0.0124770146453\n",
      "pixel131 has weight of -0.0464061308655\n",
      "pixel132 has weight of -0.069698923238\n",
      "pixel133 has weight of -0.017662967743\n",
      "pixel134 has weight of -0.0160547790552\n",
      "pixel135 has weight of 0.0225511145651\n",
      "pixel136 has weight of -0.026814308249\n",
      "pixel137 has weight of -0.0590353022765\n",
      "pixel138 has weight of -0.00562105385609\n",
      "pixel139 has weight of 0.0\n",
      "pixel140 has weight of 0.0\n",
      "pixel141 has weight of 0.0\n",
      "pixel142 has weight of 0.0\n",
      "pixel143 has weight of 0.0\n",
      "pixel144 has weight of 0.0069506039331\n",
      "pixel145 has weight of 0.0239344865256\n",
      "pixel146 has weight of -0.0253500972573\n",
      "pixel147 has weight of -0.0315356101886\n",
      "pixel148 has weight of -0.03988909026\n",
      "pixel149 has weight of 0.0172135132399\n",
      "pixel150 has weight of -0.00767967977555\n",
      "pixel151 has weight of -0.0397276338679\n",
      "pixel152 has weight of -0.00347655996522\n",
      "pixel153 has weight of 0.060314338558\n",
      "pixel154 has weight of 0.0577151423361\n",
      "pixel155 has weight of 0.043365766465\n",
      "pixel156 has weight of -0.0024458094918\n",
      "pixel157 has weight of 0.0107241279793\n",
      "pixel158 has weight of 0.0268956145104\n",
      "pixel159 has weight of -0.0513983834559\n",
      "pixel160 has weight of 0.00331213534355\n",
      "pixel161 has weight of -0.00795670888056\n",
      "pixel162 has weight of -0.121475210843\n",
      "pixel163 has weight of -0.0568483608148\n",
      "pixel164 has weight of 0.0516320486608\n",
      "pixel165 has weight of -0.00361939592034\n",
      "pixel166 has weight of -0.0071037567564\n",
      "pixel167 has weight of -0.00434090895658\n",
      "pixel168 has weight of 0.0\n",
      "pixel169 has weight of 0.0\n",
      "pixel170 has weight of 0.0\n",
      "pixel171 has weight of 0.0245172177243\n",
      "pixel172 has weight of -0.00858661972559\n",
      "pixel173 has weight of 0.00160606255453\n",
      "pixel174 has weight of -0.0140837944204\n",
      "pixel175 has weight of -0.0384906325557\n",
      "pixel176 has weight of 0.0129180684861\n",
      "pixel177 has weight of -0.00390336557837\n",
      "pixel178 has weight of -0.0193538379267\n",
      "pixel179 has weight of 0.0090472168235\n",
      "pixel180 has weight of -0.0191133690972\n",
      "pixel181 has weight of 0.0524396855219\n",
      "pixel182 has weight of 0.0382726717819\n",
      "pixel183 has weight of 0.00903708341762\n",
      "pixel184 has weight of 0.0715219959389\n",
      "pixel185 has weight of 0.0405188736772\n",
      "pixel186 has weight of 0.00914279012151\n",
      "pixel187 has weight of -0.0169494495114\n",
      "pixel188 has weight of -0.018169989619\n",
      "pixel189 has weight of 0.00315075745728\n",
      "pixel190 has weight of -0.0343206997993\n",
      "pixel191 has weight of -0.0453337707137\n",
      "pixel192 has weight of -0.00715422234935\n",
      "pixel193 has weight of -0.022824337554\n",
      "pixel194 has weight of -0.00970880729012\n",
      "pixel195 has weight of -0.00434090895658\n",
      "pixel196 has weight of 0.0\n",
      "pixel197 has weight of 0.0\n",
      "pixel198 has weight of 0.000946791453295\n",
      "pixel199 has weight of -0.000679343661525\n",
      "pixel200 has weight of 0.00942716245812\n",
      "pixel201 has weight of 0.00988594648928\n",
      "pixel202 has weight of -0.0142664374267\n",
      "pixel203 has weight of -0.0270932751779\n",
      "pixel204 has weight of 0.0176137946805\n",
      "pixel205 has weight of -0.02346766633\n",
      "pixel206 has weight of -0.0488047186016\n",
      "pixel207 has weight of 0.0108768875534\n",
      "pixel208 has weight of 0.0204224369848\n",
      "pixel209 has weight of 0.032210552953\n",
      "pixel210 has weight of -0.00300397333762\n",
      "pixel211 has weight of 0.0261766844147\n",
      "pixel212 has weight of 0.0283892242285\n",
      "pixel213 has weight of 0.0135983887163\n",
      "pixel214 has weight of 0.031139631509\n",
      "pixel215 has weight of 0.0289178534265\n",
      "pixel216 has weight of 0.0409072248206\n",
      "pixel217 has weight of 0.046855700457\n",
      "pixel218 has weight of 0.0318635779777\n",
      "pixel219 has weight of -0.0219587629656\n",
      "pixel220 has weight of -0.0997730951631\n",
      "pixel221 has weight of -0.00464595316232\n",
      "pixel222 has weight of -0.0569222285737\n",
      "pixel223 has weight of 0.0\n",
      "pixel224 has weight of 0.0\n",
      "pixel225 has weight of 0.0\n",
      "pixel226 has weight of 0.000946791453295\n",
      "pixel227 has weight of -0.0123216127083\n",
      "pixel228 has weight of 0.0144558700642\n",
      "pixel229 has weight of 0.0167498291873\n",
      "pixel230 has weight of 0.00909411878491\n",
      "pixel231 has weight of -0.0330005259406\n",
      "pixel232 has weight of 0.028122726593\n",
      "pixel233 has weight of -0.0161478287103\n",
      "pixel234 has weight of 0.0148937406777\n",
      "pixel235 has weight of -0.00991748372103\n",
      "pixel236 has weight of -0.00417258701273\n",
      "pixel237 has weight of 0.00965066243015\n",
      "pixel238 has weight of 0.0033631530727\n",
      "pixel239 has weight of 0.0975810789856\n",
      "pixel240 has weight of 0.0100239302477\n",
      "pixel241 has weight of 0.0321070799906\n",
      "pixel242 has weight of 0.00778262208069\n",
      "pixel243 has weight of -0.0023867491699\n",
      "pixel244 has weight of 0.0375262567573\n",
      "pixel245 has weight of -0.0188451570211\n",
      "pixel246 has weight of 0.0189025823427\n",
      "pixel247 has weight of -0.0123879057455\n",
      "pixel248 has weight of -0.104938334731\n",
      "pixel249 has weight of -0.0746102524411\n",
      "pixel250 has weight of 0.011657569704\n",
      "pixel251 has weight of 0.0\n",
      "pixel252 has weight of 0.0\n",
      "pixel253 has weight of 0.0\n",
      "pixel254 has weight of 0.0013302611995\n",
      "pixel255 has weight of 0.0046717288579\n",
      "pixel256 has weight of 0.0514611023778\n",
      "pixel257 has weight of 0.016071979248\n",
      "pixel258 has weight of -0.0284103926568\n",
      "pixel259 has weight of 0.000241898306838\n",
      "pixel260 has weight of 0.0183241526829\n",
      "pixel261 has weight of -0.00606327216815\n",
      "pixel262 has weight of 0.0436419376684\n",
      "pixel263 has weight of -0.0447266482663\n",
      "pixel264 has weight of -0.0287182580209\n",
      "pixel265 has weight of -0.00163070721435\n",
      "pixel266 has weight of 0.0258062013361\n",
      "pixel267 has weight of -0.0127580598889\n",
      "pixel268 has weight of 0.0314350842499\n",
      "pixel269 has weight of 0.0952836951555\n",
      "pixel270 has weight of 0.107870116604\n",
      "pixel271 has weight of 0.0924529792655\n",
      "pixel272 has weight of 0.00655662200701\n",
      "pixel273 has weight of 0.0100385741456\n",
      "pixel274 has weight of 0.0183064660793\n",
      "pixel275 has weight of 0.0437612682797\n",
      "pixel276 has weight of -0.0348087556673\n",
      "pixel277 has weight of -0.0525891561298\n",
      "pixel278 has weight of -0.0101930266643\n",
      "pixel279 has weight of -0.0218834601102\n",
      "pixel280 has weight of 0.0\n",
      "pixel281 has weight of -0.00469526611845\n",
      "pixel282 has weight of 0.00024485896339\n",
      "pixel283 has weight of 0.0222448901074\n",
      "pixel284 has weight of -0.0132543249949\n",
      "pixel285 has weight of -0.0301563859963\n",
      "pixel286 has weight of -0.0103983041664\n",
      "pixel287 has weight of 0.00661444118213\n",
      "pixel288 has weight of 0.0291201797353\n",
      "pixel289 has weight of -0.0196077459888\n",
      "pixel290 has weight of 0.00905398133974\n",
      "pixel291 has weight of -0.0190391054051\n",
      "pixel292 has weight of 0.0561464632801\n",
      "pixel293 has weight of 0.0660088773313\n",
      "pixel294 has weight of 0.0587435820157\n",
      "pixel295 has weight of 0.0207126868689\n",
      "pixel296 has weight of 0.0485171865488\n",
      "pixel297 has weight of -0.00974627699825\n",
      "pixel298 has weight of 0.0789812935539\n",
      "pixel299 has weight of 0.112097800464\n",
      "pixel300 has weight of 0.0343180133714\n",
      "pixel301 has weight of 0.0318543090897\n",
      "pixel302 has weight of 0.011664491887\n",
      "pixel303 has weight of 0.0417226453008\n",
      "pixel304 has weight of 0.0404333964293\n",
      "pixel305 has weight of -0.0512180841174\n",
      "pixel306 has weight of -0.00588607433828\n",
      "pixel307 has weight of -0.0218834601102\n",
      "pixel308 has weight of 0.0\n",
      "pixel309 has weight of -0.00469526611845\n",
      "pixel310 has weight of -0.0045492808332\n",
      "pixel311 has weight of 0.0146558179107\n",
      "pixel312 has weight of -0.0888121256774\n",
      "pixel313 has weight of 0.00654258044945\n",
      "pixel314 has weight of -0.00233373414717\n",
      "pixel315 has weight of -0.0216533951752\n",
      "pixel316 has weight of 0.0247991080427\n",
      "pixel317 has weight of 0.0119594963241\n",
      "pixel318 has weight of 0.0374494918414\n",
      "pixel319 has weight of 0.0237324131886\n",
      "pixel320 has weight of -0.0206274936636\n",
      "pixel321 has weight of -0.0539870114127\n",
      "pixel322 has weight of -0.046667110315\n",
      "pixel323 has weight of -0.0750066095593\n",
      "pixel324 has weight of -0.0347386886562\n",
      "pixel325 has weight of -0.0608560275639\n",
      "pixel326 has weight of 0.00645291242577\n",
      "pixel327 has weight of 0.0520153023726\n",
      "pixel328 has weight of 0.0220364509803\n",
      "pixel329 has weight of -0.00718191037077\n",
      "pixel330 has weight of 0.0626893174015\n",
      "pixel331 has weight of 0.0555518884563\n",
      "pixel332 has weight of 0.062166351277\n",
      "pixel333 has weight of -0.0493792791379\n",
      "pixel334 has weight of 0.0\n",
      "pixel335 has weight of 0.0\n",
      "pixel336 has weight of 0.0\n",
      "pixel337 has weight of -0.00469526611845\n",
      "pixel338 has weight of -0.00469526611845\n",
      "pixel339 has weight of 0.0348229139928\n",
      "pixel340 has weight of -0.0927369619849\n",
      "pixel341 has weight of -0.00360786312983\n",
      "pixel342 has weight of -0.0352602074311\n",
      "pixel343 has weight of 0.0103240010821\n",
      "pixel344 has weight of 0.0304073104543\n",
      "pixel345 has weight of 0.0258376334834\n",
      "pixel346 has weight of 0.0642122664989\n",
      "pixel347 has weight of 0.0281921478514\n",
      "pixel348 has weight of -0.0805292391729\n",
      "pixel349 has weight of -0.0568799218957\n",
      "pixel350 has weight of -0.0423060545507\n",
      "pixel351 has weight of -0.00981246767571\n",
      "pixel352 has weight of -0.0852517598979\n",
      "pixel353 has weight of -0.0950403515508\n",
      "pixel354 has weight of -0.11462960524\n",
      "pixel355 has weight of -0.0415607616339\n",
      "pixel356 has weight of 0.0223391906474\n",
      "pixel357 has weight of 0.0224770881027\n",
      "pixel358 has weight of 0.17630898129\n",
      "pixel359 has weight of 0.132135794836\n",
      "pixel360 has weight of 0.0373250533597\n",
      "pixel361 has weight of -0.0818887494957\n",
      "pixel362 has weight of 0.0\n",
      "pixel363 has weight of 0.0\n",
      "pixel364 has weight of 0.0\n",
      "pixel365 has weight of 0.0\n",
      "pixel366 has weight of 0.0\n",
      "pixel367 has weight of 0.0203167669608\n",
      "pixel368 has weight of -0.106533942896\n",
      "pixel369 has weight of 0.0260417870242\n",
      "pixel370 has weight of -0.0161991741244\n",
      "pixel371 has weight of 0.0195176859501\n",
      "pixel372 has weight of 0.00111416116966\n",
      "pixel373 has weight of 0.0259720371752\n",
      "pixel374 has weight of 0.00943194294098\n",
      "pixel375 has weight of -0.0122356138168\n",
      "pixel376 has weight of -0.057081595948\n",
      "pixel377 has weight of -0.0348796240521\n",
      "pixel378 has weight of -0.0849041678148\n",
      "pixel379 has weight of -0.0549934087004\n",
      "pixel380 has weight of -0.0385628585239\n",
      "pixel381 has weight of -0.064984583686\n",
      "pixel382 has weight of -0.134562723632\n",
      "pixel383 has weight of -0.0427676509174\n",
      "pixel384 has weight of -0.0264381818725\n",
      "pixel385 has weight of 0.0287549569603\n",
      "pixel386 has weight of 0.168323220152\n",
      "pixel387 has weight of 0.098147336594\n",
      "pixel388 has weight of 0.0513548286132\n",
      "pixel389 has weight of -0.0593986279054\n",
      "pixel390 has weight of 0.0\n",
      "pixel391 has weight of 0.0\n",
      "pixel392 has weight of 0.0\n",
      "pixel393 has weight of 0.0\n",
      "pixel394 has weight of 0.0\n",
      "pixel395 has weight of -0.0225851377764\n",
      "pixel396 has weight of -0.0199590583551\n",
      "pixel397 has weight of 0.103199830663\n",
      "pixel398 has weight of 0.00649705185832\n",
      "pixel399 has weight of 0.0181043877069\n",
      "pixel400 has weight of 0.0504820863482\n",
      "pixel401 has weight of 0.053725703615\n",
      "pixel402 has weight of 0.055438126624\n",
      "pixel403 has weight of -0.0245125645371\n",
      "pixel404 has weight of -0.0302778197565\n",
      "pixel405 has weight of -0.102360958586\n",
      "pixel406 has weight of -0.106778453828\n",
      "pixel407 has weight of -0.0665035894515\n",
      "pixel408 has weight of -0.108015842138\n",
      "pixel409 has weight of -0.0509483618098\n",
      "pixel410 has weight of -0.113691856847\n",
      "pixel411 has weight of 0.00367457960648\n",
      "pixel412 has weight of -0.059164544885\n",
      "pixel413 has weight of 0.0739833659085\n",
      "pixel414 has weight of 0.10194787102\n",
      "pixel415 has weight of 0.0580622478833\n",
      "pixel416 has weight of 0.0764546434465\n",
      "pixel417 has weight of -0.0486312344164\n",
      "pixel418 has weight of 0.0\n",
      "pixel419 has weight of 0.0\n",
      "pixel420 has weight of 0.0\n",
      "pixel421 has weight of 0.0\n",
      "pixel422 has weight of 0.00348782156943\n",
      "pixel423 has weight of -0.0224839658741\n",
      "pixel424 has weight of -0.00976003181269\n",
      "pixel425 has weight of 0.0893509759294\n",
      "pixel426 has weight of -0.0407355379085\n",
      "pixel427 has weight of 0.0262778657767\n",
      "pixel428 has weight of 0.0487108297588\n",
      "pixel429 has weight of 0.022408657796\n",
      "pixel430 has weight of 0.101825774005\n",
      "pixel431 has weight of 0.0172847366858\n",
      "pixel432 has weight of -0.078175214193\n",
      "pixel433 has weight of -0.110720285292\n",
      "pixel434 has weight of -0.129461503154\n",
      "pixel435 has weight of -0.0323887252896\n",
      "pixel436 has weight of -0.0478902313233\n",
      "pixel437 has weight of -0.0522815807925\n",
      "pixel438 has weight of -0.0858891982462\n",
      "pixel439 has weight of 0.0659374661629\n",
      "pixel440 has weight of -0.00522825344616\n",
      "pixel441 has weight of 0.0869694305197\n",
      "pixel442 has weight of 0.0198341195833\n",
      "pixel443 has weight of 0.0226478253937\n",
      "pixel444 has weight of 0.0477982491978\n",
      "pixel445 has weight of 0.0390431259221\n",
      "pixel446 has weight of -0.00916205010572\n",
      "pixel447 has weight of -0.00916205010572\n",
      "pixel448 has weight of 0.0\n",
      "pixel449 has weight of 0.0\n",
      "pixel450 has weight of 0.00348782156943\n",
      "pixel451 has weight of -0.0226746909991\n",
      "pixel452 has weight of 0.0287936830676\n",
      "pixel453 has weight of 0.0511472968819\n",
      "pixel454 has weight of -0.0110575600022\n",
      "pixel455 has weight of 0.0560597367099\n",
      "pixel456 has weight of 0.00829562895551\n",
      "pixel457 has weight of -0.0101782914847\n",
      "pixel458 has weight of 0.0776274610416\n",
      "pixel459 has weight of 0.0127400033169\n",
      "pixel460 has weight of -0.0896178971987\n",
      "pixel461 has weight of -0.115832631375\n",
      "pixel462 has weight of -0.0781609667043\n",
      "pixel463 has weight of -0.0910713559154\n",
      "pixel464 has weight of -0.0669508703846\n",
      "pixel465 has weight of -0.0350791786519\n",
      "pixel466 has weight of -0.0258047511437\n",
      "pixel467 has weight of 0.0220381071437\n",
      "pixel468 has weight of 0.0352827675549\n",
      "pixel469 has weight of 0.0115816996541\n",
      "pixel470 has weight of -0.0222542703511\n",
      "pixel471 has weight of 0.0331008538587\n",
      "pixel472 has weight of 0.0237623052014\n",
      "pixel473 has weight of -0.0593767237581\n",
      "pixel474 has weight of -0.0122136344899\n",
      "pixel475 has weight of -0.00916205010572\n",
      "pixel476 has weight of 0.0\n",
      "pixel477 has weight of 0.0\n",
      "pixel478 has weight of 0.00348782156943\n",
      "pixel479 has weight of -0.000345685825353\n",
      "pixel480 has weight of 0.0593186299676\n",
      "pixel481 has weight of 0.0140816753415\n",
      "pixel482 has weight of 0.0120976510821\n",
      "pixel483 has weight of 0.0511323667535\n",
      "pixel484 has weight of -0.00749369525582\n",
      "pixel485 has weight of -0.00593276680994\n",
      "pixel486 has weight of 0.0212043869328\n",
      "pixel487 has weight of -0.00640625983242\n",
      "pixel488 has weight of -0.00394616990288\n",
      "pixel489 has weight of -0.0918355646003\n",
      "pixel490 has weight of -0.106798368628\n",
      "pixel491 has weight of -0.110057743679\n",
      "pixel492 has weight of -0.103500291894\n",
      "pixel493 has weight of 0.00258074170789\n",
      "pixel494 has weight of -0.0296022833245\n",
      "pixel495 has weight of -0.062274338862\n",
      "pixel496 has weight of -0.00523360766117\n",
      "pixel497 has weight of -0.0555775694779\n",
      "pixel498 has weight of -0.0611491097242\n",
      "pixel499 has weight of -0.0361383706235\n",
      "pixel500 has weight of 0.0105085656822\n",
      "pixel501 has weight of -0.014094130516\n",
      "pixel502 has weight of 0.00483353015214\n",
      "pixel503 has weight of 0.0103469410205\n",
      "pixel504 has weight of 0.0\n",
      "pixel505 has weight of 0.0\n",
      "pixel506 has weight of 0.00348782156943\n",
      "pixel507 has weight of -0.00879500307493\n",
      "pixel508 has weight of 0.00258916455213\n",
      "pixel509 has weight of 0.0848565833465\n",
      "pixel510 has weight of 0.0272393945884\n",
      "pixel511 has weight of 0.0983907766217\n",
      "pixel512 has weight of 0.129954095101\n",
      "pixel513 has weight of 0.0542312005767\n",
      "pixel514 has weight of 0.0153892993222\n",
      "pixel515 has weight of 0.0251721241199\n",
      "pixel516 has weight of 0.00281036370916\n",
      "pixel517 has weight of -0.0437106249395\n",
      "pixel518 has weight of -0.0286210237772\n",
      "pixel519 has weight of -0.0433331731432\n",
      "pixel520 has weight of -0.0279463049654\n",
      "pixel521 has weight of -0.0190289568909\n",
      "pixel522 has weight of -0.0439492384458\n",
      "pixel523 has weight of -0.020267410446\n",
      "pixel524 has weight of 0.00242502543559\n",
      "pixel525 has weight of -0.0238274934819\n",
      "pixel526 has weight of -0.0745713742246\n",
      "pixel527 has weight of -0.0797199507466\n",
      "pixel528 has weight of -0.0540191362051\n",
      "pixel529 has weight of 0.0572282037931\n",
      "pixel530 has weight of 0.00637503355066\n",
      "pixel531 has weight of 0.0103469410205\n",
      "pixel532 has weight of 0.0\n",
      "pixel533 has weight of 0.0\n",
      "pixel534 has weight of -0.00571909077831\n",
      "pixel535 has weight of -0.065647870033\n",
      "pixel536 has weight of 0.0175948069301\n",
      "pixel537 has weight of 0.0508383259764\n",
      "pixel538 has weight of -0.0294224553995\n",
      "pixel539 has weight of 0.0295494578368\n",
      "pixel540 has weight of 0.131107727223\n",
      "pixel541 has weight of 0.0468128354864\n",
      "pixel542 has weight of -0.00711188380853\n",
      "pixel543 has weight of 0.0146728286909\n",
      "pixel544 has weight of 0.0198737477739\n",
      "pixel545 has weight of -0.0134714441901\n",
      "pixel546 has weight of 0.0303068671866\n",
      "pixel547 has weight of -0.00523923998729\n",
      "pixel548 has weight of 0.00753217830267\n",
      "pixel549 has weight of -0.0109329050561\n",
      "pixel550 has weight of -0.0432902026328\n",
      "pixel551 has weight of 0.0425762353507\n",
      "pixel552 has weight of -0.0185579050007\n",
      "pixel553 has weight of -0.0304030156165\n",
      "pixel554 has weight of 0.035409294716\n",
      "pixel555 has weight of -0.0134271829782\n",
      "pixel556 has weight of 0.0271323732502\n",
      "pixel557 has weight of 0.0322624700565\n",
      "pixel558 has weight of 0.0\n",
      "pixel559 has weight of 0.0\n",
      "pixel560 has weight of 0.0\n",
      "pixel561 has weight of 0.0\n",
      "pixel562 has weight of -0.00782801029047\n",
      "pixel563 has weight of -0.0374851665014\n",
      "pixel564 has weight of -0.00688393221788\n",
      "pixel565 has weight of 0.0204072719141\n",
      "pixel566 has weight of 0.00492291320003\n",
      "pixel567 has weight of -0.0150711099256\n",
      "pixel568 has weight of -0.0190947094194\n",
      "pixel569 has weight of -0.0212155938523\n",
      "pixel570 has weight of 0.0555067032827\n",
      "pixel571 has weight of 0.0325129176298\n",
      "pixel572 has weight of -0.00161235246602\n",
      "pixel573 has weight of 0.0107476725934\n",
      "pixel574 has weight of 0.0236828425326\n",
      "pixel575 has weight of 0.0225432984745\n",
      "pixel576 has weight of -0.00228166183732\n",
      "pixel577 has weight of -0.031103277707\n",
      "pixel578 has weight of -0.0070184772544\n",
      "pixel579 has weight of -0.00207543237653\n",
      "pixel580 has weight of -0.0501891789961\n",
      "pixel581 has weight of 0.0384654742604\n",
      "pixel582 has weight of 0.0390316617164\n",
      "pixel583 has weight of -0.0226687728743\n",
      "pixel584 has weight of -0.0235495023176\n",
      "pixel585 has weight of 0.0202229308694\n",
      "pixel586 has weight of 0.0\n",
      "pixel587 has weight of 0.0\n",
      "pixel588 has weight of 0.0\n",
      "pixel589 has weight of 0.0\n",
      "pixel590 has weight of -0.00782801029047\n",
      "pixel591 has weight of 0.00237772863355\n",
      "pixel592 has weight of -0.00317827240149\n",
      "pixel593 has weight of 0.0181546092334\n",
      "pixel594 has weight of 0.011504999632\n",
      "pixel595 has weight of -0.0420934036786\n",
      "pixel596 has weight of 0.0168777407035\n",
      "pixel597 has weight of -0.00303198915802\n",
      "pixel598 has weight of 0.0403332990355\n",
      "pixel599 has weight of 0.0505719580265\n",
      "pixel600 has weight of -0.00337992284459\n",
      "pixel601 has weight of 0.0156858317047\n",
      "pixel602 has weight of 0.0595800863976\n",
      "pixel603 has weight of -0.0195716700501\n",
      "pixel604 has weight of -0.0341881527006\n",
      "pixel605 has weight of -0.0606203874397\n",
      "pixel606 has weight of -0.0656792492454\n",
      "pixel607 has weight of -0.0207223082015\n",
      "pixel608 has weight of -0.00357710192827\n",
      "pixel609 has weight of 0.032710938009\n",
      "pixel610 has weight of 0.00313702610794\n",
      "pixel611 has weight of -0.0157135138778\n",
      "pixel612 has weight of -0.0191253389772\n",
      "pixel613 has weight of -0.0259483849811\n",
      "pixel614 has weight of 0.0\n",
      "pixel615 has weight of 0.0\n",
      "pixel616 has weight of 0.0\n",
      "pixel617 has weight of 0.0\n",
      "pixel618 has weight of -0.00782801029047\n",
      "pixel619 has weight of 0.0317395631342\n",
      "pixel620 has weight of -0.0522061229705\n",
      "pixel621 has weight of -0.0119851943921\n",
      "pixel622 has weight of 0.0633300409671\n",
      "pixel623 has weight of 0.00420853407195\n",
      "pixel624 has weight of -0.043788717083\n",
      "pixel625 has weight of 0.0528651826762\n",
      "pixel626 has weight of 0.0307279850227\n",
      "pixel627 has weight of 0.048964865693\n",
      "pixel628 has weight of 0.0287219120736\n",
      "pixel629 has weight of 0.0237725611263\n",
      "pixel630 has weight of 0.0229466362129\n",
      "pixel631 has weight of 0.0198786742158\n",
      "pixel632 has weight of -0.00310728926735\n",
      "pixel633 has weight of -0.0234717950222\n",
      "pixel634 has weight of 0.00739719561993\n",
      "pixel635 has weight of 0.0366720927379\n",
      "pixel636 has weight of -0.00616801738042\n",
      "pixel637 has weight of 0.0110840921046\n",
      "pixel638 has weight of 0.0254896061202\n",
      "pixel639 has weight of 0.013235847633\n",
      "pixel640 has weight of -0.00325092254495\n",
      "pixel641 has weight of -0.0377163423179\n",
      "pixel642 has weight of 0.0\n",
      "pixel643 has weight of 0.0\n",
      "pixel644 has weight of 0.0\n",
      "pixel645 has weight of 0.0\n",
      "pixel646 has weight of 0.0\n",
      "pixel647 has weight of 0.0249108317997\n",
      "pixel648 has weight of -0.0308652475144\n",
      "pixel649 has weight of -0.0670232878733\n",
      "pixel650 has weight of -0.019991110475\n",
      "pixel651 has weight of 0.0104505296304\n",
      "pixel652 has weight of -0.00470589072834\n",
      "pixel653 has weight of 0.018477394884\n",
      "pixel654 has weight of -0.0162675120125\n",
      "pixel655 has weight of 0.0669498745856\n",
      "pixel656 has weight of 0.115725977179\n",
      "pixel657 has weight of 0.100928030834\n",
      "pixel658 has weight of 0.0509126464185\n",
      "pixel659 has weight of 0.0028383997503\n",
      "pixel660 has weight of -0.0224779363381\n",
      "pixel661 has weight of -0.0240562314337\n",
      "pixel662 has weight of -0.0192231745839\n",
      "pixel663 has weight of -0.0205480383454\n",
      "pixel664 has weight of -0.0353534291186\n",
      "pixel665 has weight of -0.0117758094892\n",
      "pixel666 has weight of 0.00352704893999\n",
      "pixel667 has weight of 0.0261324123684\n",
      "pixel668 has weight of 0.0478718071527\n",
      "pixel669 has weight of 0.00575582760757\n",
      "pixel670 has weight of 0.0\n",
      "pixel671 has weight of 0.0\n",
      "pixel672 has weight of 0.0\n",
      "pixel673 has weight of 0.0\n",
      "pixel674 has weight of 0.0\n",
      "pixel675 has weight of 0.0182748689004\n",
      "pixel676 has weight of -0.00721205529846\n",
      "pixel677 has weight of 0.0165466472313\n",
      "pixel678 has weight of -0.00104643335274\n",
      "pixel679 has weight of -0.0355833315328\n",
      "pixel680 has weight of -0.0208160626173\n",
      "pixel681 has weight of -0.033740752387\n",
      "pixel682 has weight of -0.04404747668\n",
      "pixel683 has weight of -0.0518407529073\n",
      "pixel684 has weight of 0.0177689640425\n",
      "pixel685 has weight of 0.0137347459392\n",
      "pixel686 has weight of -0.00425367467812\n",
      "pixel687 has weight of -0.0275734297097\n",
      "pixel688 has weight of 0.0125219572864\n",
      "pixel689 has weight of 0.0175318027413\n",
      "pixel690 has weight of 0.00395394907165\n",
      "pixel691 has weight of -0.0329333805152\n",
      "pixel692 has weight of -0.0228054416031\n",
      "pixel693 has weight of -0.0268354841903\n",
      "pixel694 has weight of 0.00835200684202\n",
      "pixel695 has weight of 0.00746483212881\n",
      "pixel696 has weight of 0.0\n",
      "pixel697 has weight of 0.0\n",
      "pixel698 has weight of 0.0\n",
      "pixel699 has weight of 0.0\n",
      "pixel700 has weight of 0.0\n",
      "pixel701 has weight of 0.0\n",
      "pixel702 has weight of 0.0\n",
      "pixel703 has weight of 0.0\n",
      "pixel704 has weight of 0.0150086162506\n",
      "pixel705 has weight of 0.00967991949273\n",
      "pixel706 has weight of 0.0162632214421\n",
      "pixel707 has weight of 0.00379741648424\n",
      "pixel708 has weight of -0.00477500753575\n",
      "pixel709 has weight of -0.0352594520208\n",
      "pixel710 has weight of -0.0197956299838\n",
      "pixel711 has weight of -0.0607178748061\n",
      "pixel712 has weight of -0.0716622391674\n",
      "pixel713 has weight of -0.0666416225116\n",
      "pixel714 has weight of -0.0526514035428\n",
      "pixel715 has weight of 0.0252065520411\n",
      "pixel716 has weight of 0.0112655083217\n",
      "pixel717 has weight of -0.0137527246859\n",
      "pixel718 has weight of 0.0391845030289\n",
      "pixel719 has weight of 0.0338186669877\n",
      "pixel720 has weight of 0.0283799708975\n",
      "pixel721 has weight of 0.0112332742265\n",
      "pixel722 has weight of 0.0102689088888\n",
      "pixel723 has weight of 0.0\n",
      "pixel724 has weight of 0.0\n",
      "pixel725 has weight of 0.0\n",
      "pixel726 has weight of 0.0\n",
      "pixel727 has weight of 0.0\n",
      "pixel728 has weight of 0.0\n",
      "pixel729 has weight of 0.0\n",
      "pixel730 has weight of 0.0\n",
      "pixel731 has weight of 0.0\n",
      "pixel732 has weight of 0.0\n",
      "pixel733 has weight of 0.0\n",
      "pixel734 has weight of 0.0293835853693\n",
      "pixel735 has weight of -0.00763280138847\n",
      "pixel736 has weight of -0.0388284092765\n",
      "pixel737 has weight of -0.0503172364933\n",
      "pixel738 has weight of -0.0291834879789\n",
      "pixel739 has weight of -0.0374921652298\n",
      "pixel740 has weight of -0.0343112828514\n",
      "pixel741 has weight of -0.0494502056185\n",
      "pixel742 has weight of -0.0571291588488\n",
      "pixel743 has weight of 0.022577863387\n",
      "pixel744 has weight of -0.0268168806004\n",
      "pixel745 has weight of -0.0225839799869\n",
      "pixel746 has weight of -0.0126439258878\n",
      "pixel747 has weight of -0.00269692428269\n",
      "pixel748 has weight of 0.0245643642471\n",
      "pixel749 has weight of 0.000946791453296\n",
      "pixel750 has weight of 0.0\n",
      "pixel751 has weight of 0.0\n",
      "pixel752 has weight of 0.0\n",
      "pixel753 has weight of 0.0\n",
      "pixel754 has weight of 0.0\n",
      "pixel755 has weight of 0.0\n",
      "pixel756 has weight of 0.0\n",
      "pixel757 has weight of 0.0\n",
      "pixel758 has weight of 0.0\n",
      "pixel759 has weight of 0.0\n",
      "pixel760 has weight of 0.0\n",
      "pixel761 has weight of 0.0\n",
      "pixel762 has weight of 0.0\n",
      "pixel763 has weight of 0.0\n",
      "pixel764 has weight of 0.0\n",
      "pixel765 has weight of 0.0\n",
      "pixel766 has weight of 0.0480147302292\n",
      "pixel767 has weight of -0.00222609622537\n",
      "pixel768 has weight of -0.007884453394\n",
      "pixel769 has weight of -0.00389505378075\n",
      "pixel770 has weight of 0.00888558566606\n",
      "pixel771 has weight of 0.00656586616515\n",
      "pixel772 has weight of -0.00722054268304\n",
      "pixel773 has weight of -0.00469526611845\n",
      "pixel774 has weight of 0.0\n",
      "pixel775 has weight of 0.0\n",
      "pixel776 has weight of 0.0\n",
      "pixel777 has weight of 0.0\n",
      "pixel778 has weight of 0.0\n",
      "pixel779 has weight of 0.0\n",
      "pixel780 has weight of 0.0\n",
      "pixel781 has weight of 0.0\n",
      "pixel782 has weight of 0.0\n",
      "pixel783 has weight of 0.0\n"
     ]
    }
   ],
   "source": [
    "from sklearn.preprocessing import StandardScaler\n",
    "\n",
    "# scale attributes by the training set\n",
    "scl_obj = StandardScaler()\n",
    "scl_obj.fit(X_train) # find scalings for each column that make this zero mean and unit std\n",
    "# the line of code above only looks at training data to get mean and std and we can use it \n",
    "# to transform new feature data\n",
    "\n",
    "X_train_scaled = scl_obj.transform(X_train) # apply to training\n",
    "X_test_scaled = scl_obj.transform(X_test) # apply those means and std to the test set (without snooping at the test set values)\n",
    "\n",
    "# train the model just as before\n",
    "lr_clf = LogisticRegression(penalty='l2', C=0.05) # get object, the 'C' value is less (can you guess why??)\n",
    "lr_clf.fit(X_train_scaled,y_train)  # train object\n",
    "\n",
    "y_hat = lr_clf.predict(X_test_scaled) # get test set precitions\n",
    "\n",
    "acc = mt.accuracy_score(y_test,y_hat)\n",
    "conf = mt.confusion_matrix(y_test,y_hat)\n",
    "print('accuracy:', acc )\n",
    "print(conf )\n",
    "\n",
    "# sort these attributes and spit them out\n",
    "zip_vars = zip(lr_clf.coef_.T,df.columns) # combine attributes\n",
    "# zip_vars.sort(key = lambda t: np.abs(t[0])) # sort them by the magnitude of the weight\n",
    "for coef, name in zip_vars:\n",
    "    print(name, 'has weight of', coef[0]) # now print them out"
   ]
  },
  {
   "cell_type": "markdown",
   "metadata": {},
   "source": [
    "Now it is time to plot the weights to show where the numbers might lie in determination of which attributes are most important when predicting. As stated presviouly this data set is a little odd in determination of variable selection however we can see that the pixels in the middle of the data set, show to a much greater extent where the possible future values may lie."
   ]
  },
  {
   "cell_type": "code",
   "execution_count": 8,
   "metadata": {
    "collapsed": false,
    "scrolled": true
   },
   "outputs": [
    {
     "data": {
      "image/png": "[encoded data removed]",
      "text/plain": [
       "<matplotlib.figure.Figure at 0x10416080>"
      ]
     },
     "metadata": {},
     "output_type": "display_data"
    }
   ],
   "source": [
    "%matplotlib inline\n",
    "import numpy as np\n",
    "import matplotlib as mpl\n",
    "import matplotlib.pyplot as plt\n",
    "import seaborn as sns\n",
    "sns.set(style=\"whitegrid\", color_codes=True)\n",
    "\n",
    "\n",
    "weights = pd.Series(lr_clf.coef_[0],index=df.columns)\n",
    "sns = weights.plot(color = \"blue\")"
   ]
  },
  {
   "cell_type": "markdown",
   "metadata": {},
   "source": [
    "Below a pipeline is used to help to a greater extent which values are the largest deterininents. A pipline essentially applies a list of transforms along with a final estimator. The final estimator only needs to implement fit. From this we can determine which of the variables is most vital for model creation. As shown in the output the values toward the middle of the pixel scale appear to be the most likely determininents which is to be expected as most of the items would be drawn centered arond the middle of the box."
   ]
  },
  {
   "cell_type": "code",
   "execution_count": 9,
   "metadata": {
    "collapsed": false
   },
   "outputs": [
    {
     "name": "stderr",
     "output_type": "stream",
     "text": [
      "C:\\Anaconda2\\lib\\site-packages\\sklearn\\utils\\validation.py:420: DataConversionWarning: Data with input dtype int64 was converted to float64 by StandardScaler.\n",
      "  warnings.warn(msg, DataConversionWarning)\n",
      "C:\\Anaconda2\\lib\\site-packages\\sklearn\\utils\\validation.py:420: DataConversionWarning: Data with input dtype int64 was converted to float64 by StandardScaler.\n",
      "  warnings.warn(msg, DataConversionWarning)\n",
      "C:\\Anaconda2\\lib\\site-packages\\sklearn\\utils\\validation.py:420: DataConversionWarning: Data with input dtype int64 was converted to float64 by StandardScaler.\n",
      "  warnings.warn(msg, DataConversionWarning)\n",
      "C:\\Anaconda2\\lib\\site-packages\\sklearn\\utils\\validation.py:420: DataConversionWarning: Data with input dtype int64 was converted to float64 by StandardScaler.\n",
      "  warnings.warn(msg, DataConversionWarning)\n",
      "C:\\Anaconda2\\lib\\site-packages\\sklearn\\utils\\validation.py:420: DataConversionWarning: Data with input dtype int64 was converted to float64 by StandardScaler.\n",
      "  warnings.warn(msg, DataConversionWarning)\n",
      "C:\\Anaconda2\\lib\\site-packages\\sklearn\\utils\\validation.py:420: DataConversionWarning: Data with input dtype int64 was converted to float64 by StandardScaler.\n",
      "  warnings.warn(msg, DataConversionWarning)\n"
     ]
    },
    {
     "data": {
      "image/png": "[encoded data removed]",
      "text/plain": [
       "<matplotlib.figure.Figure at 0xc3feb00>"
      ]
     },
     "metadata": {},
     "output_type": "display_data"
    }
   ],
   "source": [
    "# Ignore warnings\n",
    "\n",
    "\n",
    "from sklearn.pipeline import Pipeline\n",
    "%matplotlib inline\n",
    "import numpy as np\n",
    "import matplotlib as mpl\n",
    "import matplotlib.pyplot as plt\n",
    "import seaborn as sns\n",
    "sns.set(style=\"whitegrid\", color_codes=True)\n",
    "\n",
    "std_scl = StandardScaler()\n",
    "lr_clf = LogisticRegression(penalty='l2', C=0.05) \n",
    "\n",
    "piped_object = Pipeline([('scale', std_scl), ('logit_model', lr_clf)])\n",
    "\n",
    "for iter_num, (train_indices, test_indices) in enumerate(cv_object):\n",
    "    piped_object.fit(X[train_indices],y[train_indices])  \n",
    "    \n",
    "trained_model_from_pipeline = piped_object.named_steps['logit_model']\n",
    "\n",
    "weights = pd.Series(trained_model_from_pipeline.coef_[0],index=df.columns)\n",
    "sns = weights.plot(color = \"red\")"
   ]
  },
  {
   "cell_type": "markdown",
   "metadata": {
    "collapsed": false
   },
   "source": [
    "# Support Vector Machines¶\n",
    "Scaled attributes from the training and testing data are now used for investigating associated weights and support vectors. This is done by using support vector machines (SVMs) on the data and playing with the parameters."
   ]
  },
  {
   "cell_type": "code",
   "execution_count": 10,
   "metadata": {
    "collapsed": true
   },
   "outputs": [],
   "source": [
    "# Use Pandas to import as a data frame\n",
    "import pandas as pd\n",
    "\n",
    "train = pd.read_csv('data/train.csv')\n",
    "test = pd.read_csv('data/test.csv')"
   ]
  },
  {
   "cell_type": "markdown",
   "metadata": {},
   "source": [
    "As shown below we must (as we did with the logit) seperate the variables using a Shuffle Split."
   ]
  },
  {
   "cell_type": "code",
   "execution_count": 11,
   "metadata": {
    "collapsed": false
   },
   "outputs": [
    {
     "name": "stdout",
     "output_type": "stream",
     "text": [
      "ShuffleSplit(42000, n_iter=3, test_size=0.2, random_state=None)\n"
     ]
    }
   ],
   "source": [
    "from sklearn.cross_validation import ShuffleSplit\n",
    "\n",
    "# Create training set and cross validation set\n",
    "# Use 50% of data for cross validation\n",
    "# dftrain, dfcross = train_test_split(train, test_size = 0.5)\n",
    "\n",
    "# Set X and y\n",
    "X = train.values\n",
    "y = train['label'].values\n",
    "\n",
    "num_cv_iterations = 3\n",
    "num_instances = len(y)\n",
    "cv_object = ShuffleSplit(n=num_instances,\n",
    "                         n_iter=num_cv_iterations,\n",
    "                         test_size  = 0.2)\n",
    "print(cv_object)"
   ]
  },
  {
   "cell_type": "markdown",
   "metadata": {},
   "source": [
    "As shown below there was a command created to ensure that there are no duplicate rows in the data source."
   ]
  },
  {
   "cell_type": "code",
   "execution_count": 12,
   "metadata": {
    "collapsed": false
   },
   "outputs": [
    {
     "name": "stdout",
     "output_type": "stream",
     "text": [
      "Checking for Null values or duplicate rows... \n",
      "None found\n"
     ]
    }
   ],
   "source": [
    "# Check Data \n",
    "\n",
    "print (\"Checking for Null values or duplicate rows... \"), \n",
    "if train.isnull().all().any() or train.duplicated().all(): \n",
    "    print('error in data')\n",
    "else:\n",
    "    print('None found')"
   ]
  },
  {
   "cell_type": "markdown",
   "metadata": {},
   "source": [
    "The below code sets the indices and variables as the X and Y variables for visualization purposes."
   ]
  },
  {
   "cell_type": "code",
   "execution_count": 13,
   "metadata": {
    "collapsed": false
   },
   "outputs": [
    {
     "name": "stdout",
     "output_type": "stream",
     "text": [
      "Setting training and testing indices...\n",
      "Scaling...\n",
      "Done.\n"
     ]
    }
   ],
   "source": [
    "from sklearn.preprocessing import StandardScaler\n",
    "import warnings\n",
    "warnings.filterwarnings('ignore')\n",
    "\n",
    "scl_obj = StandardScaler()\n",
    "\n",
    "\n",
    "print(\"Setting training and testing indices...\"),\n",
    "for train_indices, test_indices in cv_object: \n",
    "    \n",
    "    X_train = X[train_indices]\n",
    "    y_train = y[train_indices]\n",
    "    \n",
    "    X_test = X[test_indices]\n",
    "    y_test = y[test_indices]\n",
    "    \n",
    "print(\"Scaling...\"),    \n",
    "scl_obj.fit(X_train) \n",
    "\n",
    "X_train_scaled = scl_obj.transform(X_train) \n",
    "X_test_scaled = scl_obj.transform(X_test) \n",
    "    \n",
    "X_train_scaled = scl_obj.transform(X_train) \n",
    "X_test_scaled = scl_obj.transform(X_test)\n",
    "\n",
    "print(\"Done.\")"
   ]
  },
  {
   "cell_type": "markdown",
   "metadata": {},
   "source": [
    "Below the code creates a the model for the actual support vetors, in order to perfrom the support vector model the data set must first be scaled to support the variables."
   ]
  },
  {
   "cell_type": "code",
   "execution_count": 14,
   "metadata": {
    "collapsed": false
   },
   "outputs": [
    {
     "name": "stdout",
     "output_type": "stream",
     "text": [
      "Training...\n",
      "Predicting...\n",
      "time:  160.161999941\n",
      "accuracy: 0.979047619048\n",
      "[[821   1   2   0   0   0   0   0   0   0]\n",
      " [  1 954   9   0   1   0   0   0   0   0]\n",
      " [  7   6 799  10   4   0   0   0   0   0]\n",
      " [  3   3  14 837   1   0   0   0   0   0]\n",
      " [  0   3   6   4 816   2   4   2   0   0]\n",
      " [  0   1   0   2   9 750  14   2   0   0]\n",
      " [  0   0   0   0   2   8 822   0   1   0]\n",
      " [  0   0   0   0   2   2   1 890   3   0]\n",
      " [  0   0   0   0   1   0  13   9 769  12]\n",
      " [  0   0   0   0   1   0   1   2   7 766]]\n"
     ]
    }
   ],
   "source": [
    "import time\n",
    "start = time.time()\n",
    "\n",
    "from sklearn.svm import SVC\n",
    "from sklearn import metrics as mt\n",
    "\n",
    "\n",
    "svm_clf = SVC(C=0.5, kernel='linear', degree=3, gamma='auto')\n",
    "print(\"Training...\"), \n",
    "svm_clf.fit(X_train_scaled, y_train) \n",
    "\n",
    "print(\"Predicting...\"), \n",
    "y_hat = svm_clf.predict(X_test_scaled) \n",
    "\n",
    "acc = mt.accuracy_score(y_test,y_hat)\n",
    "conf = mt.confusion_matrix(y_test,y_hat)\n",
    "print('time: ', time.time()-start)\n",
    "print('accuracy:', acc )\n",
    "print(conf)"
   ]
  },
  {
   "cell_type": "markdown",
   "metadata": {},
   "source": [
    "## The seaborn plot below shows the weights for each pixel; with large concentrations in the center and bottom of the images"
   ]
  },
  {
   "cell_type": "code",
   "execution_count": 23,
   "metadata": {
    "collapsed": false
   },
   "outputs": [
    {
     "name": "stdout",
     "output_type": "stream",
     "text": [
      "[[-0.04938634  0.          0.         ...,  0.          0.          0.        ]\n",
      " [-0.78064432  0.          0.         ...,  0.          0.          0.        ]\n",
      " [-0.65964825  0.          0.         ...,  0.          0.          0.        ]\n",
      " ..., \n",
      " [-0.86906902  0.          0.         ...,  0.          0.          0.        ]\n",
      " [-2.89277184  0.          0.         ...,  0.          0.          0.        ]\n",
      " [-2.86149529  0.          0.         ...,  0.          0.          0.        ]]\n"
     ]
    },
    {
     "data": {
      "image/png": "[encoded data removed]",
      "text/plain": [
       "<matplotlib.figure.Figure at 0x109b43c8>"
      ]
     },
     "metadata": {},
     "output_type": "display_data"
    }
   ],
   "source": [
    "%matplotlib inline\n",
    "import numpy as np\n",
    "import matplotlib as mpl\n",
    "import matplotlib.pyplot as plt\n",
    "import seaborn as sns\n",
    "sns.set(style=\"whitegrid\", color_codes=True)\n",
    "\n",
    "\n",
    "print(svm_clf.coef_)\n",
    "weights = pd.Series(svm_clf.coef_[0],index=train.columns)\n",
    "\n",
    "sns = weights.plot(color = \"purple\")\n"
   ]
  },
  {
   "cell_type": "markdown",
   "metadata": {},
   "source": [
    "### The plot above shows a high concentration of vectors in pixels 300-500\n",
    "This as stated previously with the logit, shows that a majority of the pixels are towards the middle of the square, meaning that most of the drawings start near the 300pixel- 500pixel range. "
   ]
  },
  {
   "cell_type": "code",
   "execution_count": 16,
   "metadata": {
    "collapsed": false
   },
   "outputs": [
    {
     "name": "stdout",
     "output_type": "stream",
     "text": [
      "(6657L, 785L)\n",
      "(6657L,)\n",
      "[382 311 707 833 604 787 478 751 905 899]\n"
     ]
    }
   ],
   "source": [
    "# The support vectors\n",
    "print(svm_clf.support_vectors_.shape)\n",
    "print(svm_clf.support_.shape)\n",
    "print(svm_clf.n_support_ )"
   ]
  },
  {
   "cell_type": "code",
   "execution_count": 17,
   "metadata": {
    "collapsed": false
   },
   "outputs": [
    {
     "name": "stdout",
     "output_type": "stream",
     "text": [
      "<class 'pandas.core.frame.DataFrame'>\n",
      "Int64Index: 6657 entries, 6 to 33552\n",
      "Columns: 785 entries, label to pixel783\n",
      "dtypes: float64(784), int64(1)\n",
      "memory usage: 39.9 MB\n"
     ]
    }
   ],
   "source": [
    "df_tested_on = train.iloc[train_indices] \n",
    "\n",
    "df_support = df_tested_on.loc[svm_clf.support_,:]\n",
    "\n",
    "df_support['label'] = y[svm_clf.support_] \n",
    "\n",
    "train['label'] = y \n",
    "\n",
    "df_support.info()"
   ]
  },
  {
   "cell_type": "code",
   "execution_count": 21,
   "metadata": {
    "collapsed": false,
    "scrolled": true
   },
   "outputs": [
    {
     "name": "stdout",
     "output_type": "stream",
     "text": [
      "time:  8.81399989128\n",
      "SVM: 0.899285714286\n"
     ]
    }
   ],
   "source": [
    "# use some compact notation for creating a linear SVM classifier with stochastic descent\n",
    "from sklearn.linear_model import SGDClassifier\n",
    "start = time.time()\n",
    "\n",
    "regularize_const = 0.1\n",
    "iterations = 5\n",
    "svm_sgd = SGDClassifier(alpha=regularize_const,\n",
    "        fit_intercept=True, l1_ratio=0.0, learning_rate='optimal',\n",
    "        loss='hinge', n_iter=iterations, n_jobs=-1, penalty='l2')\n",
    "\n",
    "scl = StandardScaler()\n",
    "for train_idx, test_idx in cv_object:\n",
    "    svm_sgd.fit(scl.fit_transform(X[train_idx]),y[train_idx])\n",
    "    yhat = svm_sgd.predict(scl.transform(X[test_idx]))\n",
    "    \n",
    "    conf = mt.confusion_matrix(y[test_idx],yhat)\n",
    "    acc = mt.accuracy_score(y[test_idx],yhat)\n",
    "print('time: ', time.time()-start)\n",
    "print('SVM:', acc)"
   ]
  },
  {
   "cell_type": "code",
   "execution_count": 20,
   "metadata": {
    "collapsed": false
   },
   "outputs": [
    {
     "name": "stdout",
     "output_type": "stream",
     "text": [
      "time:  92.8329999447\n",
      "Logistic Regression: 0.906666666667\n"
     ]
    }
   ],
   "source": [
    "# use some compact notation for creating a logistic regression classifier with stochastic descent\n",
    "start = time.time()\n",
    "log_sgd = SGDClassifier(alpha=regularize_const,\n",
    "        fit_intercept=True, l1_ratio=0.0, learning_rate='optimal',\n",
    "        loss='log', n_iter=iterations, n_jobs=-1, penalty='l2')\n",
    "\n",
    "scl = StandardScaler()\n",
    "for train_idx, test_idx in cv_object:\n",
    "    log_sgd.fit(scl.fit_transform(X[train_idx]),y[train_idx])\n",
    "    yhat = log_sgd.predict(scl.transform(X[test_idx]))\n",
    "    \n",
    "    conf = mt.confusion_matrix(y[test_idx],yhat)\n",
    "    acc = mt.accuracy_score(y[test_idx],yhat)\n",
    "print('time: ', time.time()-start)\n",
    "print('Logistic Regression:', acc)"
   ]
  },
  {
   "cell_type": "markdown",
   "metadata": {},
   "source": [
    "# Analysis\n",
    "Using SVM with stochastic descent, the accuracy decreases to 90% from 98% as compared when using linear SVC.\n",
    "\n",
    "Using a Logistic Regression classifier with stochastic decent did in fact boost accuracy from 82% to approximately 90%"
   ]
  },
  {
   "cell_type": "markdown",
   "metadata": {
    "collapsed": true
   },
   "source": [
    "# Conclusion\n",
    "The linear SVM classifier is the the more valuable tool for this set, able to train and classify 42000 rows x 785 features in under 3 minutes on a laptop machine with %98+ accuracy.  The SVC was simple and efficient to implement, compared with the logistic regression.\n",
    "\n",
    "From both the SVM and Logistic Regression it can be determined that the majority of the hand written letters fill the middle pixels of the box the majority of the time. For future predictions it can be expected that an individual will begin writing in the middle of the the frame."
   ]
  },
  {
   "cell_type": "code",
   "execution_count": null,
   "metadata": {
    "collapsed": true
   },
   "outputs": [],
   "source": []
  }
 ],
 "metadata": {
  "anaconda-cloud": {},
  "kernelspec": {
   "display_name": "Python [Root]",
   "language": "python",
   "name": "Python [Root]"
  },
  "language_info": {
   "codemirror_mode": {
    "name": "ipython",
    "version": 2
   },
   "file_extension": ".py",
   "mimetype": "text/x-python",
   "name": "python",
   "nbconvert_exporter": "python",
   "pygments_lexer": "ipython2",
   "version": "2.7.12"
  }
 },
 "nbformat": 4,
 "nbformat_minor": 0
}
