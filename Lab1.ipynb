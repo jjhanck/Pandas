{
 "cells": [
  {
   "cell_type": "markdown",
   "metadata": {},
   "source": [
    "# First, we will import the Indeed training data set into Jupyter. \n",
    "\n",
    "Reading data from CSV with Pandas\n"
   ]
  },
  {
   "cell_type": "code",
   "execution_count": 3,
   "metadata": {
    "collapsed": false
   },
   "outputs": [
    {
     "name": "stdout",
     "output_type": "stream",
     "text": [
      "jobId,companyId,jobType,degree,major,industry,yearsExperience,milesFromMetropolis,salary\n",
      "JOB1362684407687,COMP37,CFO,MASTERS,MATH,HEALTH,10,83,130\n",
      "JOB1362684407688,COMP19,CEO,HIGH_SCHOOL,NONE,WEB,3,73,101\n",
      "JOB1362684407689,COMP52,VICE_PRESIDENT,DOCTORAL,PHYSICS,HEALTH,10,38,137\n",
      "JOB1362684407690,COMP38,MANAGER,DOCTORAL,CHEMISTRY,AUTO,8,17,142\n"
     ]
    }
   ],
   "source": [
    "with open ('C:\\Users\\hancojam\\Documents\\DataMiningNotebooks-master\\data/training.csv') as fid:\n",
    "    for idx, row in enumerate(fid):\n",
    "        print row,\n",
    "        if idx >=4:\n",
    "            break"
   ]
  },
  {
   "cell_type": "code",
   "execution_count": 4,
   "metadata": {
    "collapsed": false
   },
   "outputs": [],
   "source": [
    "# now let's read in the same data using pandas to save it as a dataframe\n",
    "import pandas as pd\n",
    "\n",
    "df = pd.read_csv('C:\\Users\\hancojam\\Documents\\DataMiningNotebooks-master\\data/training.csv') # read in the csv file"
   ]
  },
  {
   "cell_type": "code",
   "execution_count": 5,
   "metadata": {
    "collapsed": false
   },
   "outputs": [
    {
     "data": {
      "text/html": [
       "<div>\n",
       "<table border=\"1\" class=\"dataframe\">\n",
       "  <thead>\n",
       "    <tr style=\"text-align: right;\">\n",
       "      <th></th>\n",
       "      <th>jobId</th>\n",
       "      <th>companyId</th>\n",
       "      <th>jobType</th>\n",
       "      <th>degree</th>\n",
       "      <th>major</th>\n",
       "      <th>industry</th>\n",
       "      <th>yearsExperience</th>\n",
       "      <th>milesFromMetropolis</th>\n",
       "      <th>salary</th>\n",
       "    </tr>\n",
       "  </thead>\n",
       "  <tbody>\n",
       "    <tr>\n",
       "      <th>0</th>\n",
       "      <td>JOB1362684407687</td>\n",
       "      <td>COMP37</td>\n",
       "      <td>CFO</td>\n",
       "      <td>MASTERS</td>\n",
       "      <td>MATH</td>\n",
       "      <td>HEALTH</td>\n",
       "      <td>10</td>\n",
       "      <td>83</td>\n",
       "      <td>130</td>\n",
       "    </tr>\n",
       "    <tr>\n",
       "      <th>1</th>\n",
       "      <td>JOB1362684407688</td>\n",
       "      <td>COMP19</td>\n",
       "      <td>CEO</td>\n",
       "      <td>HIGH_SCHOOL</td>\n",
       "      <td>NONE</td>\n",
       "      <td>WEB</td>\n",
       "      <td>3</td>\n",
       "      <td>73</td>\n",
       "      <td>101</td>\n",
       "    </tr>\n",
       "    <tr>\n",
       "      <th>2</th>\n",
       "      <td>JOB1362684407689</td>\n",
       "      <td>COMP52</td>\n",
       "      <td>VICE_PRESIDENT</td>\n",
       "      <td>DOCTORAL</td>\n",
       "      <td>PHYSICS</td>\n",
       "      <td>HEALTH</td>\n",
       "      <td>10</td>\n",
       "      <td>38</td>\n",
       "      <td>137</td>\n",
       "    </tr>\n",
       "    <tr>\n",
       "      <th>3</th>\n",
       "      <td>JOB1362684407690</td>\n",
       "      <td>COMP38</td>\n",
       "      <td>MANAGER</td>\n",
       "      <td>DOCTORAL</td>\n",
       "      <td>CHEMISTRY</td>\n",
       "      <td>AUTO</td>\n",
       "      <td>8</td>\n",
       "      <td>17</td>\n",
       "      <td>142</td>\n",
       "    </tr>\n",
       "    <tr>\n",
       "      <th>4</th>\n",
       "      <td>JOB1362684407691</td>\n",
       "      <td>COMP7</td>\n",
       "      <td>VICE_PRESIDENT</td>\n",
       "      <td>BACHELORS</td>\n",
       "      <td>PHYSICS</td>\n",
       "      <td>FINANCE</td>\n",
       "      <td>8</td>\n",
       "      <td>16</td>\n",
       "      <td>163</td>\n",
       "    </tr>\n",
       "  </tbody>\n",
       "</table>\n",
       "</div>"
      ],
      "text/plain": [
       "              jobId companyId         jobType       degree      major  \\\n",
       "0  JOB1362684407687    COMP37             CFO      MASTERS       MATH   \n",
       "1  JOB1362684407688    COMP19             CEO  HIGH_SCHOOL       NONE   \n",
       "2  JOB1362684407689    COMP52  VICE_PRESIDENT     DOCTORAL    PHYSICS   \n",
       "3  JOB1362684407690    COMP38         MANAGER     DOCTORAL  CHEMISTRY   \n",
       "4  JOB1362684407691     COMP7  VICE_PRESIDENT    BACHELORS    PHYSICS   \n",
       "\n",
       "  industry  yearsExperience  milesFromMetropolis  salary  \n",
       "0   HEALTH               10                   83     130  \n",
       "1      WEB                3                   73     101  \n",
       "2   HEALTH               10                   38     137  \n",
       "3     AUTO                8                   17     142  \n",
       "4  FINANCE                8                   16     163  "
      ]
     },
     "execution_count": 5,
     "metadata": {},
     "output_type": "execute_result"
    }
   ],
   "source": [
    "df.head()"
   ]
  },
  {
   "cell_type": "code",
   "execution_count": 6,
   "metadata": {
    "collapsed": false
   },
   "outputs": [
    {
     "name": "stdout",
     "output_type": "stream",
     "text": [
      "<class 'pandas.core.frame.DataFrame'>\n",
      "RangeIndex: 1000000 entries, 0 to 999999\n",
      "Data columns (total 9 columns):\n",
      "jobId                  1000000 non-null object\n",
      "companyId              1000000 non-null object\n",
      "jobType                1000000 non-null object\n",
      "degree                 1000000 non-null object\n",
      "major                  1000000 non-null object\n",
      "industry               1000000 non-null object\n",
      "yearsExperience        1000000 non-null int64\n",
      "milesFromMetropolis    1000000 non-null int64\n",
      "salary                 1000000 non-null int64\n",
      "dtypes: int64(3), object(6)\n",
      "memory usage: 68.7+ MB\n"
     ]
    }
   ],
   "source": [
    "df.info()"
   ]
  },
  {
   "cell_type": "code",
   "execution_count": 7,
   "metadata": {
    "collapsed": false
   },
   "outputs": [],
   "source": [
    "#Create a list of Categorical Variables\n",
    "categ_features = ['jobType, degree, major, industry'];"
   ]
  },
  {
   "cell_type": "markdown",
   "metadata": {},
   "source": [
    "Calculate the median, min and max years of experience, miles from metropolis and salary from the training data set"
   ]
  },
  {
   "cell_type": "code",
   "execution_count": 8,
   "metadata": {
    "collapsed": false
   },
   "outputs": [
    {
     "name": "stdout",
     "output_type": "stream",
     "text": [
      "0 0 0\n"
     ]
    }
   ],
   "source": [
    "print df.yearsExperience.min(), df.milesFromMetropolis.min(), df.salary.min()"
   ]
  },
  {
   "cell_type": "code",
   "execution_count": 10,
   "metadata": {
    "collapsed": false
   },
   "outputs": [
    {
     "name": "stdout",
     "output_type": "stream",
     "text": [
      "12.0 50.0 114.0\n"
     ]
    }
   ],
   "source": [
    "print df.yearsExperience.median(), df.milesFromMetropolis.median(), df.salary.median()"
   ]
  },
  {
   "cell_type": "code",
   "execution_count": 9,
   "metadata": {
    "collapsed": false
   },
   "outputs": [
    {
     "name": "stdout",
     "output_type": "stream",
     "text": [
      "24 99 301\n"
     ]
    }
   ],
   "source": [
    "print df.yearsExperience.max(), df.milesFromMetropolis.max(), df.salary.max()"
   ]
  },
  {
   "cell_type": "markdown",
   "metadata": {},
   "source": [
    "Noticed that the minimum salary is zero. Since those zeros represent missing data, we will need to impute a best estimate for those values or remove them. First lets identify how many zeros are in the dataset by creating a dictionary of the counts of the salaries in the dataset"
   ]
  },
  {
   "cell_type": "code",
   "execution_count": 11,
   "metadata": {
    "collapsed": false
   },
   "outputs": [
    {
     "data": {
      "text/plain": [
       "{0: 5,\n",
       " 17: 1,\n",
       " 18: 3,\n",
       " 19: 10,\n",
       " 20: 43,\n",
       " 21: 49,\n",
       " 22: 63,\n",
       " 23: 107,\n",
       " 24: 129,\n",
       " 25: 173,\n",
       " 26: 232,\n",
       " 27: 309,\n",
       " 28: 347,\n",
       " 29: 463,\n",
       " 30: 518,\n",
       " 31: 553,\n",
       " 32: 614,\n",
       " 33: 743,\n",
       " 34: 800,\n",
       " 35: 927,\n",
       " 36: 1096,\n",
       " 37: 1108,\n",
       " 38: 1197,\n",
       " 39: 1356,\n",
       " 40: 1449,\n",
       " 41: 1622,\n",
       " 42: 1660,\n",
       " 43: 1816,\n",
       " 44: 1904,\n",
       " 45: 2018,\n",
       " 46: 2248,\n",
       " 47: 2300,\n",
       " 48: 2410,\n",
       " 49: 2516,\n",
       " 50: 2655,\n",
       " 51: 2831,\n",
       " 52: 3000,\n",
       " 53: 3087,\n",
       " 54: 3278,\n",
       " 55: 3332,\n",
       " 56: 3491,\n",
       " 57: 3622,\n",
       " 58: 3803,\n",
       " 59: 4026,\n",
       " 60: 4087,\n",
       " 61: 4384,\n",
       " 62: 4357,\n",
       " 63: 4592,\n",
       " 64: 4706,\n",
       " 65: 4984,\n",
       " 66: 5142,\n",
       " 67: 5258,\n",
       " 68: 5344,\n",
       " 69: 5606,\n",
       " 70: 5797,\n",
       " 71: 5851,\n",
       " 72: 6096,\n",
       " 73: 6173,\n",
       " 74: 6464,\n",
       " 75: 6551,\n",
       " 76: 6730,\n",
       " 77: 6933,\n",
       " 78: 7166,\n",
       " 79: 7221,\n",
       " 80: 7588,\n",
       " 81: 7353,\n",
       " 82: 7879,\n",
       " 83: 7930,\n",
       " 84: 8026,\n",
       " 85: 8346,\n",
       " 86: 8434,\n",
       " 87: 8472,\n",
       " 88: 8724,\n",
       " 89: 8775,\n",
       " 90: 9066,\n",
       " 91: 9189,\n",
       " 92: 9228,\n",
       " 93: 9320,\n",
       " 94: 9236,\n",
       " 95: 9567,\n",
       " 96: 9565,\n",
       " 97: 9773,\n",
       " 98: 9898,\n",
       " 99: 9946,\n",
       " 100: 9937,\n",
       " 101: 10151,\n",
       " 102: 10158,\n",
       " 103: 10285,\n",
       " 104: 10297,\n",
       " 105: 10223,\n",
       " 106: 10204,\n",
       " 107: 10371,\n",
       " 108: 10467,\n",
       " 109: 10243,\n",
       " 110: 10270,\n",
       " 111: 10179,\n",
       " 112: 10361,\n",
       " 113: 10182,\n",
       " 114: 10407,\n",
       " 115: 10227,\n",
       " 116: 10169,\n",
       " 117: 10041,\n",
       " 118: 9968,\n",
       " 119: 10080,\n",
       " 120: 9835,\n",
       " 121: 9800,\n",
       " 122: 9748,\n",
       " 123: 9723,\n",
       " 124: 9685,\n",
       " 125: 9594,\n",
       " 126: 9416,\n",
       " 127: 9325,\n",
       " 128: 9353,\n",
       " 129: 9185,\n",
       " 130: 8909,\n",
       " 131: 8679,\n",
       " 132: 8752,\n",
       " 133: 8674,\n",
       " 134: 8532,\n",
       " 135: 8350,\n",
       " 136: 8182,\n",
       " 137: 8127,\n",
       " 138: 7941,\n",
       " 139: 7774,\n",
       " 140: 7816,\n",
       " 141: 7536,\n",
       " 142: 7565,\n",
       " 143: 7358,\n",
       " 144: 7057,\n",
       " 145: 6987,\n",
       " 146: 6767,\n",
       " 147: 6786,\n",
       " 148: 6556,\n",
       " 149: 6369,\n",
       " 150: 6086,\n",
       " 151: 6125,\n",
       " 152: 5974,\n",
       " 153: 5794,\n",
       " 154: 5742,\n",
       " 155: 5611,\n",
       " 156: 5542,\n",
       " 157: 5259,\n",
       " 158: 5000,\n",
       " 159: 5065,\n",
       " 160: 4888,\n",
       " 161: 4738,\n",
       " 162: 4609,\n",
       " 163: 4569,\n",
       " 164: 4265,\n",
       " 165: 4213,\n",
       " 166: 4087,\n",
       " 167: 3998,\n",
       " 168: 3919,\n",
       " 169: 3730,\n",
       " 170: 3623,\n",
       " 171: 3490,\n",
       " 172: 3422,\n",
       " 173: 3433,\n",
       " 174: 3225,\n",
       " 175: 3115,\n",
       " 176: 3038,\n",
       " 177: 2955,\n",
       " 178: 2779,\n",
       " 179: 2754,\n",
       " 180: 2641,\n",
       " 181: 2526,\n",
       " 182: 2437,\n",
       " 183: 2351,\n",
       " 184: 2181,\n",
       " 185: 2155,\n",
       " 186: 2065,\n",
       " 187: 2024,\n",
       " 188: 1937,\n",
       " 189: 1824,\n",
       " 190: 1774,\n",
       " 191: 1795,\n",
       " 192: 1712,\n",
       " 193: 1604,\n",
       " 194: 1556,\n",
       " 195: 1452,\n",
       " 196: 1347,\n",
       " 197: 1399,\n",
       " 198: 1313,\n",
       " 199: 1257,\n",
       " 200: 1193,\n",
       " 201: 1106,\n",
       " 202: 1109,\n",
       " 203: 1052,\n",
       " 204: 967,\n",
       " 205: 959,\n",
       " 206: 886,\n",
       " 207: 815,\n",
       " 208: 841,\n",
       " 209: 833,\n",
       " 210: 776,\n",
       " 211: 721,\n",
       " 212: 689,\n",
       " 213: 615,\n",
       " 214: 599,\n",
       " 215: 572,\n",
       " 216: 545,\n",
       " 217: 481,\n",
       " 218: 497,\n",
       " 219: 497,\n",
       " 220: 460,\n",
       " 221: 421,\n",
       " 222: 423,\n",
       " 223: 364,\n",
       " 224: 350,\n",
       " 225: 355,\n",
       " 226: 348,\n",
       " 227: 349,\n",
       " 228: 297,\n",
       " 229: 254,\n",
       " 230: 279,\n",
       " 231: 235,\n",
       " 232: 230,\n",
       " 233: 190,\n",
       " 234: 199,\n",
       " 235: 198,\n",
       " 236: 209,\n",
       " 237: 183,\n",
       " 238: 152,\n",
       " 239: 155,\n",
       " 240: 140,\n",
       " 241: 126,\n",
       " 242: 116,\n",
       " 243: 127,\n",
       " 244: 104,\n",
       " 245: 106,\n",
       " 246: 93,\n",
       " 247: 90,\n",
       " 248: 89,\n",
       " 249: 69,\n",
       " 250: 75,\n",
       " 251: 65,\n",
       " 252: 56,\n",
       " 253: 62,\n",
       " 254: 48,\n",
       " 255: 44,\n",
       " 256: 46,\n",
       " 257: 35,\n",
       " 258: 37,\n",
       " 259: 29,\n",
       " 260: 39,\n",
       " 261: 27,\n",
       " 262: 30,\n",
       " 263: 26,\n",
       " 264: 19,\n",
       " 265: 19,\n",
       " 266: 21,\n",
       " 267: 19,\n",
       " 268: 19,\n",
       " 269: 5,\n",
       " 270: 16,\n",
       " 271: 16,\n",
       " 272: 10,\n",
       " 273: 14,\n",
       " 274: 10,\n",
       " 275: 11,\n",
       " 276: 5,\n",
       " 277: 4,\n",
       " 278: 10,\n",
       " 279: 4,\n",
       " 280: 4,\n",
       " 281: 3,\n",
       " 282: 6,\n",
       " 283: 5,\n",
       " 284: 3,\n",
       " 285: 4,\n",
       " 286: 3,\n",
       " 287: 2,\n",
       " 288: 2,\n",
       " 289: 3,\n",
       " 290: 1,\n",
       " 292: 2,\n",
       " 293: 2,\n",
       " 294: 2,\n",
       " 298: 1,\n",
       " 301: 2}"
      ]
     },
     "execution_count": 11,
     "metadata": {},
     "output_type": "execute_result"
    }
   ],
   "source": [
    "counts = df.salary.value_counts()\n",
    "dict(counts)"
   ]
  },
  {
   "cell_type": "code",
   "execution_count": 13,
   "metadata": {
    "collapsed": false
   },
   "outputs": [
    {
     "data": {
      "text/html": [
       "<div>\n",
       "<table border=\"1\" class=\"dataframe\">\n",
       "  <thead>\n",
       "    <tr style=\"text-align: right;\">\n",
       "      <th></th>\n",
       "      <th>yearsExperience</th>\n",
       "      <th>milesFromMetropolis</th>\n",
       "      <th>salary</th>\n",
       "    </tr>\n",
       "  </thead>\n",
       "  <tbody>\n",
       "    <tr>\n",
       "      <th>count</th>\n",
       "      <td>1000000.000000</td>\n",
       "      <td>1000000.000000</td>\n",
       "      <td>1000000.000000</td>\n",
       "    </tr>\n",
       "    <tr>\n",
       "      <th>mean</th>\n",
       "      <td>11.992386</td>\n",
       "      <td>49.529260</td>\n",
       "      <td>116.061818</td>\n",
       "    </tr>\n",
       "    <tr>\n",
       "      <th>std</th>\n",
       "      <td>7.212391</td>\n",
       "      <td>28.877733</td>\n",
       "      <td>38.717936</td>\n",
       "    </tr>\n",
       "    <tr>\n",
       "      <th>min</th>\n",
       "      <td>0.000000</td>\n",
       "      <td>0.000000</td>\n",
       "      <td>0.000000</td>\n",
       "    </tr>\n",
       "    <tr>\n",
       "      <th>25%</th>\n",
       "      <td>6.000000</td>\n",
       "      <td>25.000000</td>\n",
       "      <td>88.000000</td>\n",
       "    </tr>\n",
       "    <tr>\n",
       "      <th>50%</th>\n",
       "      <td>12.000000</td>\n",
       "      <td>50.000000</td>\n",
       "      <td>114.000000</td>\n",
       "    </tr>\n",
       "    <tr>\n",
       "      <th>75%</th>\n",
       "      <td>18.000000</td>\n",
       "      <td>75.000000</td>\n",
       "      <td>141.000000</td>\n",
       "    </tr>\n",
       "    <tr>\n",
       "      <th>max</th>\n",
       "      <td>24.000000</td>\n",
       "      <td>99.000000</td>\n",
       "      <td>301.000000</td>\n",
       "    </tr>\n",
       "  </tbody>\n",
       "</table>\n",
       "</div>"
      ],
      "text/plain": [
       "       yearsExperience  milesFromMetropolis          salary\n",
       "count   1000000.000000       1000000.000000  1000000.000000\n",
       "mean         11.992386            49.529260      116.061818\n",
       "std           7.212391            28.877733       38.717936\n",
       "min           0.000000             0.000000        0.000000\n",
       "25%           6.000000            25.000000       88.000000\n",
       "50%          12.000000            50.000000      114.000000\n",
       "75%          18.000000            75.000000      141.000000\n",
       "max          24.000000            99.000000      301.000000"
      ]
     },
     "execution_count": 13,
     "metadata": {},
     "output_type": "execute_result"
    }
   ],
   "source": [
    "#Get Summary Statistics from the Data Frame\n",
    "df.describe()"
   ]
  },
  {
   "cell_type": "code",
   "execution_count": 16,
   "metadata": {
    "collapsed": false
   },
   "outputs": [],
   "source": [
    "#Now Lets Replace the Zero Salary Values with Not a Number\n",
    "df = df[df.salary != 0]"
   ]
  },
  {
   "cell_type": "code",
   "execution_count": 18,
   "metadata": {
    "collapsed": false
   },
   "outputs": [
    {
     "data": {
      "text/html": [
       "<div>\n",
       "<table border=\"1\" class=\"dataframe\">\n",
       "  <thead>\n",
       "    <tr style=\"text-align: right;\">\n",
       "      <th></th>\n",
       "      <th>yearsExperience</th>\n",
       "      <th>milesFromMetropolis</th>\n",
       "      <th>salary</th>\n",
       "    </tr>\n",
       "  </thead>\n",
       "  <tbody>\n",
       "    <tr>\n",
       "      <th>count</th>\n",
       "      <td>999995.000000</td>\n",
       "      <td>999995.000000</td>\n",
       "      <td>999995.000000</td>\n",
       "    </tr>\n",
       "    <tr>\n",
       "      <th>mean</th>\n",
       "      <td>11.992407</td>\n",
       "      <td>49.529381</td>\n",
       "      <td>116.062398</td>\n",
       "    </tr>\n",
       "    <tr>\n",
       "      <th>std</th>\n",
       "      <td>7.212390</td>\n",
       "      <td>28.877721</td>\n",
       "      <td>38.717163</td>\n",
       "    </tr>\n",
       "    <tr>\n",
       "      <th>min</th>\n",
       "      <td>0.000000</td>\n",
       "      <td>0.000000</td>\n",
       "      <td>17.000000</td>\n",
       "    </tr>\n",
       "    <tr>\n",
       "      <th>25%</th>\n",
       "      <td>6.000000</td>\n",
       "      <td>25.000000</td>\n",
       "      <td>88.000000</td>\n",
       "    </tr>\n",
       "    <tr>\n",
       "      <th>50%</th>\n",
       "      <td>12.000000</td>\n",
       "      <td>50.000000</td>\n",
       "      <td>114.000000</td>\n",
       "    </tr>\n",
       "    <tr>\n",
       "      <th>75%</th>\n",
       "      <td>18.000000</td>\n",
       "      <td>75.000000</td>\n",
       "      <td>141.000000</td>\n",
       "    </tr>\n",
       "    <tr>\n",
       "      <th>max</th>\n",
       "      <td>24.000000</td>\n",
       "      <td>99.000000</td>\n",
       "      <td>301.000000</td>\n",
       "    </tr>\n",
       "  </tbody>\n",
       "</table>\n",
       "</div>"
      ],
      "text/plain": [
       "       yearsExperience  milesFromMetropolis         salary\n",
       "count    999995.000000        999995.000000  999995.000000\n",
       "mean         11.992407            49.529381     116.062398\n",
       "std           7.212390            28.877721      38.717163\n",
       "min           0.000000             0.000000      17.000000\n",
       "25%           6.000000            25.000000      88.000000\n",
       "50%          12.000000            50.000000     114.000000\n",
       "75%          18.000000            75.000000     141.000000\n",
       "max          24.000000            99.000000     301.000000"
      ]
     },
     "execution_count": 18,
     "metadata": {},
     "output_type": "execute_result"
    }
   ],
   "source": [
    "df.describe()"
   ]
  },
  {
   "cell_type": "code",
   "execution_count": 32,
   "metadata": {
    "collapsed": false
   },
   "outputs": [],
   "source": [
    "df.loc[df['major'] == 'None', 'major'] = 'NoneM'"
   ]
  },
  {
   "cell_type": "code",
   "execution_count": 36,
   "metadata": {
    "collapsed": false
   },
   "outputs": [
    {
     "ename": "SyntaxError",
     "evalue": "unexpected EOF while parsing (<ipython-input-36-445ebb093aff>, line 1)",
     "output_type": "error",
     "traceback": [
      "\u001b[1;36m  File \u001b[1;32m\"<ipython-input-36-445ebb093aff>\"\u001b[1;36m, line \u001b[1;32m1\u001b[0m\n\u001b[1;33m    major = df.loc[df['major'].value_counts()\u001b[0m\n\u001b[1;37m                                             ^\u001b[0m\n\u001b[1;31mSyntaxError\u001b[0m\u001b[1;31m:\u001b[0m unexpected EOF while parsing\n"
     ]
    }
   ],
   "source": [
    "major = df.loc[df['major'].value_counts()"
   ]
  },
  {
   "cell_type": "code",
   "execution_count": 25,
   "metadata": {
    "collapsed": true
   },
   "outputs": [],
   "source": [
    "major_keys = ['major'];"
   ]
  },
  {
   "cell_type": "code",
   "execution_count": 30,
   "metadata": {
    "collapsed": false
   },
   "outputs": [
    {
     "ename": "TypeError",
     "evalue": "'instancemethod' object has no attribute '__getitem__'",
     "output_type": "error",
     "traceback": [
      "\u001b[1;31m---------------------------------------------------------------------------\u001b[0m",
      "\u001b[1;31mTypeError\u001b[0m                                 Traceback (most recent call last)",
      "\u001b[1;32m<ipython-input-30-4785bd07284f>\u001b[0m in \u001b[0;36m<module>\u001b[1;34m()\u001b[0m\n\u001b[1;32m----> 1\u001b[1;33m \u001b[0mdf\u001b[0m \u001b[1;33m=\u001b[0m \u001b[0mdf\u001b[0m\u001b[1;33m.\u001b[0m\u001b[0mreplace\u001b[0m\u001b[1;33m[\u001b[0m\u001b[0mmajor_keys\u001b[0m\u001b[1;33m]\u001b[0m\u001b[1;33m(\u001b[0m\u001b[0mto_replace\u001b[0m\u001b[1;33m=\u001b[0m\u001b[1;34m'none'\u001b[0m\u001b[1;33m,\u001b[0m\u001b[0mvalue\u001b[0m \u001b[1;33m=\u001b[0m \u001b[1;34m'noneM'\u001b[0m\u001b[1;33m)\u001b[0m\u001b[1;33m\u001b[0m\u001b[0m\n\u001b[0m",
      "\u001b[1;31mTypeError\u001b[0m: 'instancemethod' object has no attribute '__getitem__'"
     ]
    }
   ],
   "source": [
    "df = df.replace[major_keys](to_replace='none',value = 'noneM')"
   ]
  },
  {
   "cell_type": "code",
   "execution_count": 29,
   "metadata": {
    "collapsed": false
   },
   "outputs": [
    {
     "data": {
      "text/plain": [
       "{'BIOLOGY': 58379,\n",
       " 'BUSINESS': 58518,\n",
       " 'CHEMISTRY': 58875,\n",
       " 'COMPSCI': 58382,\n",
       " 'ENGINEERING': 58594,\n",
       " 'LITERATURE': 58684,\n",
       " 'MATH': 57800,\n",
       " 'NONE': 532353,\n",
       " 'PHYSICS': 58410}"
      ]
     },
     "execution_count": 29,
     "metadata": {},
     "output_type": "execute_result"
    }
   ],
   "source": [
    "major = df.major.value_counts()\n",
    "dict(major)"
   ]
  },
  {
   "cell_type": "code",
   "execution_count": 31,
   "metadata": {
    "collapsed": false
   },
   "outputs": [
    {
     "ename": "NameError",
     "evalue": "name 'none' is not defined",
     "output_type": "error",
     "traceback": [
      "\u001b[1;31m---------------------------------------------------------------------------\u001b[0m",
      "\u001b[1;31mNameError\u001b[0m                                 Traceback (most recent call last)",
      "\u001b[1;32m<ipython-input-31-e4b2714236e9>\u001b[0m in \u001b[0;36m<module>\u001b[1;34m()\u001b[0m\n\u001b[1;32m----> 1\u001b[1;33m \u001b[0mdf\u001b[0m\u001b[1;33m.\u001b[0m\u001b[0mloc\u001b[0m\u001b[1;33m[\u001b[0m\u001b[0mdf\u001b[0m\u001b[1;33m[\u001b[0m\u001b[1;34m'major'\u001b[0m\u001b[1;33m]\u001b[0m \u001b[1;33m==\u001b[0m \u001b[0mnone\u001b[0m\u001b[1;33m,\u001b[0m \u001b[1;34m'major'\u001b[0m\u001b[1;33m]\u001b[0m \u001b[1;33m=\u001b[0m \u001b[1;36m1\u001b[0m\u001b[1;33m\u001b[0m\u001b[0m\n\u001b[0m",
      "\u001b[1;31mNameError\u001b[0m: name 'none' is not defined"
     ]
    }
   ],
   "source": [
    "df.loc[df['major'] == none, 'major'] = 1"
   ]
  },
  {
   "cell_type": "code",
   "execution_count": null,
   "metadata": {
    "collapsed": true
   },
   "outputs": [],
   "source": []
  }
 ],
 "metadata": {
  "kernelspec": {
   "display_name": "Python [Root]",
   "language": "python",
   "name": "Python [Root]"
  },
  "language_info": {
   "codemirror_mode": {
    "name": "ipython",
    "version": 2
   },
   "file_extension": ".py",
   "mimetype": "text/x-python",
   "name": "python",
   "nbconvert_exporter": "python",
   "pygments_lexer": "ipython2",
   "version": "2.7.12"
  }
 },
 "nbformat": 4,
 "nbformat_minor": 0
}
