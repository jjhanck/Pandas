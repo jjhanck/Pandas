{
 "cells": [
  {
   "cell_type": "markdown",
   "metadata": {},
   "source": [
    "# Lab 1 - Analyzing factors influencing salary for job postings\n",
    "Group-2: Alexandra Fisher, Ben Fowler, James Hancock & Shweta Viswanath\n",
    "MSDS 7331 Sec 401 Data Mining"
   ]
  },
  {
   "cell_type": "markdown",
   "metadata": {},
   "source": [
    "# Purpose of choosing this dataset\n",
    "We have chosen this dataset of around a million records from the Job website \"Indeed\". Indeed is in  a very competitive professional networking and market place business with millions of job postings from all over the country with insights to the job posting details, salary range per company and the job seeker information.\n",
    "\n",
    "Today most employers are providing similar information to attract talent through multiple platforms. One of the key challenge for Indeed is to drive competitive advantage for its platform by providing comprehensive and insightful information in an intuituve way to its users. The market in the context of salary traditionally has been limited to the average salary for a given company, location and title. However, it is common knowledge that professionals with the same title and company have different salaries. With so many different dimensions( industry, education background, years of experience, expertise, etc.) predicting a customized salary per the seeker's background is a challenge. With the data points from Indeed, we also know that most employers do not provide a salary range for most of the postings. \n",
    "\n",
    "The goal of this exercise (lab1) is to analyze the factors influencing salary using logistic regression techniques and develop a best-fit model to predict the approximate salary for job seekers based on their individual profiles. \n",
    "\n",
    "The overall key objective is to learn from large data sets around careers and salaries to help the job seeker make the best career decisions. We wish to achieve this by using data mining techniques like classification and machine learning to classify job profiles and build a good prediction algorithm to predict and forecast customized salary  with high accuracy based on users profile so that job seekers can take informed decisions to advance their career.  \n"
   ]
  },
  {
   "cell_type": "code",
   "execution_count": 1,
   "metadata": {
    "collapsed": false
   },
   "outputs": [
    {
     "name": "stderr",
     "output_type": "stream",
     "text": [
      "C:\\Users\\Ben Fowler\\Anaconda2\\lib\\site-packages\\sklearn\\lda.py:4: DeprecationWarning: lda.LDA has been moved to discriminant_analysis.LinearDiscriminantAnalysis in 0.17 and will be removed in 0.19\n",
      "  \"in 0.17 and will be removed in 0.19\", DeprecationWarning)\n"
     ]
    }
   ],
   "source": [
    "# We begin by importing the various libraries for pandas, numpy, scikit-learn, seaborn and \n",
    "# matplotlib\n",
    "\n",
    "#Import \n",
    "import pandas as pd\n",
    "import numpy as np\n",
    "import glob\n",
    "from matplotlib.colors import ListedColormap\n",
    "from pandas.tools.plotting import scatter_plot\n",
    "from sklearn import datasets as ds\n",
    "from sklearn.cross_validation import train_test_split\n",
    "from sklearn.preprocessing import StandardScaler\n",
    "from sklearn.linear_model import LogisticRegression\n",
    "from sklearn.decomposition import PCA\n",
    "from sklearn.lda import LDA\n",
    "\n",
    "import seaborn as sns\n",
    "cmap = sns.diverging_palette(200,10, as_cmap=True)\n",
    "\n",
    "# Import matplot lib\n",
    "import matplotlib.pyplot as plt\n",
    "import warnings\n",
    "warnings.simplefilter('ignore', DeprecationWarning)\n",
    "%matplotlib inline\n",
    "\n",
    "# To read the files from the specified folder, here the data folder \n",
    "#glob(/train_*.csv')"
   ]
  },
  {
   "cell_type": "markdown",
   "metadata": {},
   "source": [
    "# Data Preparation :\n",
    "\n",
    "The data from Indeed was stored in 2 CSV files of a million rows each - the train_features.csv file consisted of all the job and seeker details, while the salary train_salary.csv consisted of only the salary information. We use the below set of code to merge the 2 files into one dataframe"
   ]
  },
  {
   "cell_type": "code",
   "execution_count": 2,
   "metadata": {
    "collapsed": false
   },
   "outputs": [
    {
     "data": {
      "text/html": [
       "<div>\n",
       "<table border=\"1\" class=\"dataframe\">\n",
       "  <thead>\n",
       "    <tr style=\"text-align: right;\">\n",
       "      <th></th>\n",
       "      <th>jobId</th>\n",
       "      <th>companyId</th>\n",
       "      <th>jobType</th>\n",
       "      <th>degree</th>\n",
       "      <th>major</th>\n",
       "      <th>industry</th>\n",
       "      <th>yearsExperience</th>\n",
       "      <th>milesFromMetropolis</th>\n",
       "    </tr>\n",
       "  </thead>\n",
       "  <tbody>\n",
       "    <tr>\n",
       "      <th>0</th>\n",
       "      <td>JOB1362684407687</td>\n",
       "      <td>COMP37</td>\n",
       "      <td>CFO</td>\n",
       "      <td>MASTERS</td>\n",
       "      <td>MATH</td>\n",
       "      <td>HEALTH</td>\n",
       "      <td>10</td>\n",
       "      <td>83</td>\n",
       "    </tr>\n",
       "    <tr>\n",
       "      <th>1</th>\n",
       "      <td>JOB1362684407688</td>\n",
       "      <td>COMP19</td>\n",
       "      <td>CEO</td>\n",
       "      <td>HIGH_SCHOOL</td>\n",
       "      <td>NONE</td>\n",
       "      <td>WEB</td>\n",
       "      <td>3</td>\n",
       "      <td>73</td>\n",
       "    </tr>\n",
       "    <tr>\n",
       "      <th>2</th>\n",
       "      <td>JOB1362684407689</td>\n",
       "      <td>COMP52</td>\n",
       "      <td>VICE_PRESIDENT</td>\n",
       "      <td>DOCTORAL</td>\n",
       "      <td>PHYSICS</td>\n",
       "      <td>HEALTH</td>\n",
       "      <td>10</td>\n",
       "      <td>38</td>\n",
       "    </tr>\n",
       "    <tr>\n",
       "      <th>3</th>\n",
       "      <td>JOB1362684407690</td>\n",
       "      <td>COMP38</td>\n",
       "      <td>MANAGER</td>\n",
       "      <td>DOCTORAL</td>\n",
       "      <td>CHEMISTRY</td>\n",
       "      <td>AUTO</td>\n",
       "      <td>8</td>\n",
       "      <td>17</td>\n",
       "    </tr>\n",
       "    <tr>\n",
       "      <th>4</th>\n",
       "      <td>JOB1362684407691</td>\n",
       "      <td>COMP7</td>\n",
       "      <td>VICE_PRESIDENT</td>\n",
       "      <td>BACHELORS</td>\n",
       "      <td>PHYSICS</td>\n",
       "      <td>FINANCE</td>\n",
       "      <td>8</td>\n",
       "      <td>16</td>\n",
       "    </tr>\n",
       "  </tbody>\n",
       "</table>\n",
       "</div>"
      ],
      "text/plain": [
       "              jobId companyId         jobType       degree      major  \\\n",
       "0  JOB1362684407687    COMP37             CFO      MASTERS       MATH   \n",
       "1  JOB1362684407688    COMP19             CEO  HIGH_SCHOOL       NONE   \n",
       "2  JOB1362684407689    COMP52  VICE_PRESIDENT     DOCTORAL    PHYSICS   \n",
       "3  JOB1362684407690    COMP38         MANAGER     DOCTORAL  CHEMISTRY   \n",
       "4  JOB1362684407691     COMP7  VICE_PRESIDENT    BACHELORS    PHYSICS   \n",
       "\n",
       "  industry  yearsExperience  milesFromMetropolis  \n",
       "0   HEALTH               10                   83  \n",
       "1      WEB                3                   73  \n",
       "2   HEALTH               10                   38  \n",
       "3     AUTO                8                   17  \n",
       "4  FINANCE                8                   16  "
      ]
     },
     "execution_count": 2,
     "metadata": {},
     "output_type": "execute_result"
    }
   ],
   "source": [
    "# Loading the train_features dataset into features variable\n",
    "features = pd.read_csv('/train_features_2013-03-07.csv')\n",
    "features.head()"
   ]
  },
  {
   "cell_type": "code",
   "execution_count": 3,
   "metadata": {
    "collapsed": false
   },
   "outputs": [
    {
     "data": {
      "text/html": [
       "<div>\n",
       "<table border=\"1\" class=\"dataframe\">\n",
       "  <thead>\n",
       "    <tr style=\"text-align: right;\">\n",
       "      <th></th>\n",
       "      <th>jobId</th>\n",
       "      <th>salary</th>\n",
       "    </tr>\n",
       "  </thead>\n",
       "  <tbody>\n",
       "    <tr>\n",
       "      <th>0</th>\n",
       "      <td>JOB1362684407687</td>\n",
       "      <td>130</td>\n",
       "    </tr>\n",
       "    <tr>\n",
       "      <th>1</th>\n",
       "      <td>JOB1362684407688</td>\n",
       "      <td>101</td>\n",
       "    </tr>\n",
       "    <tr>\n",
       "      <th>2</th>\n",
       "      <td>JOB1362684407689</td>\n",
       "      <td>137</td>\n",
       "    </tr>\n",
       "    <tr>\n",
       "      <th>3</th>\n",
       "      <td>JOB1362684407690</td>\n",
       "      <td>142</td>\n",
       "    </tr>\n",
       "    <tr>\n",
       "      <th>4</th>\n",
       "      <td>JOB1362684407691</td>\n",
       "      <td>163</td>\n",
       "    </tr>\n",
       "  </tbody>\n",
       "</table>\n",
       "</div>"
      ],
      "text/plain": [
       "              jobId  salary\n",
       "0  JOB1362684407687     130\n",
       "1  JOB1362684407688     101\n",
       "2  JOB1362684407689     137\n",
       "3  JOB1362684407690     142\n",
       "4  JOB1362684407691     163"
      ]
     },
     "execution_count": 3,
     "metadata": {},
     "output_type": "execute_result"
    }
   ],
   "source": [
    "# Loading the train_salaries dataset into salaries variable\n",
    "salaries = pd.read_csv('/train_salaries_2013-03-07.csv')\n",
    "salaries.head()"
   ]
  },
  {
   "cell_type": "code",
   "execution_count": 4,
   "metadata": {
    "collapsed": false
   },
   "outputs": [
    {
     "data": {
      "text/html": [
       "<div>\n",
       "<table border=\"1\" class=\"dataframe\">\n",
       "  <thead>\n",
       "    <tr style=\"text-align: right;\">\n",
       "      <th></th>\n",
       "      <th>jobId</th>\n",
       "      <th>companyId</th>\n",
       "      <th>jobType</th>\n",
       "      <th>degree</th>\n",
       "      <th>major</th>\n",
       "      <th>industry</th>\n",
       "      <th>yearsExperience</th>\n",
       "      <th>milesFromMetropolis</th>\n",
       "      <th>salary</th>\n",
       "    </tr>\n",
       "  </thead>\n",
       "  <tbody>\n",
       "    <tr>\n",
       "      <th>0</th>\n",
       "      <td>JOB1362684407687</td>\n",
       "      <td>COMP37</td>\n",
       "      <td>CFO</td>\n",
       "      <td>MASTERS</td>\n",
       "      <td>MATH</td>\n",
       "      <td>HEALTH</td>\n",
       "      <td>10</td>\n",
       "      <td>83</td>\n",
       "      <td>130</td>\n",
       "    </tr>\n",
       "    <tr>\n",
       "      <th>1</th>\n",
       "      <td>JOB1362684407688</td>\n",
       "      <td>COMP19</td>\n",
       "      <td>CEO</td>\n",
       "      <td>HIGH_SCHOOL</td>\n",
       "      <td>NONE</td>\n",
       "      <td>WEB</td>\n",
       "      <td>3</td>\n",
       "      <td>73</td>\n",
       "      <td>101</td>\n",
       "    </tr>\n",
       "    <tr>\n",
       "      <th>2</th>\n",
       "      <td>JOB1362684407689</td>\n",
       "      <td>COMP52</td>\n",
       "      <td>VICE_PRESIDENT</td>\n",
       "      <td>DOCTORAL</td>\n",
       "      <td>PHYSICS</td>\n",
       "      <td>HEALTH</td>\n",
       "      <td>10</td>\n",
       "      <td>38</td>\n",
       "      <td>137</td>\n",
       "    </tr>\n",
       "    <tr>\n",
       "      <th>3</th>\n",
       "      <td>JOB1362684407690</td>\n",
       "      <td>COMP38</td>\n",
       "      <td>MANAGER</td>\n",
       "      <td>DOCTORAL</td>\n",
       "      <td>CHEMISTRY</td>\n",
       "      <td>AUTO</td>\n",
       "      <td>8</td>\n",
       "      <td>17</td>\n",
       "      <td>142</td>\n",
       "    </tr>\n",
       "    <tr>\n",
       "      <th>4</th>\n",
       "      <td>JOB1362684407691</td>\n",
       "      <td>COMP7</td>\n",
       "      <td>VICE_PRESIDENT</td>\n",
       "      <td>BACHELORS</td>\n",
       "      <td>PHYSICS</td>\n",
       "      <td>FINANCE</td>\n",
       "      <td>8</td>\n",
       "      <td>16</td>\n",
       "      <td>163</td>\n",
       "    </tr>\n",
       "  </tbody>\n",
       "</table>\n",
       "</div>"
      ],
      "text/plain": [
       "              jobId companyId         jobType       degree      major  \\\n",
       "0  JOB1362684407687    COMP37             CFO      MASTERS       MATH   \n",
       "1  JOB1362684407688    COMP19             CEO  HIGH_SCHOOL       NONE   \n",
       "2  JOB1362684407689    COMP52  VICE_PRESIDENT     DOCTORAL    PHYSICS   \n",
       "3  JOB1362684407690    COMP38         MANAGER     DOCTORAL  CHEMISTRY   \n",
       "4  JOB1362684407691     COMP7  VICE_PRESIDENT    BACHELORS    PHYSICS   \n",
       "\n",
       "  industry  yearsExperience  milesFromMetropolis  salary  \n",
       "0   HEALTH               10                   83     130  \n",
       "1      WEB                3                   73     101  \n",
       "2   HEALTH               10                   38     137  \n",
       "3     AUTO                8                   17     142  \n",
       "4  FINANCE                8                   16     163  "
      ]
     },
     "execution_count": 4,
     "metadata": {},
     "output_type": "execute_result"
    }
   ],
   "source": [
    "# Merging the features and salaries together so that we have a complete data set\n",
    "df = pd.merge(features, salaries, how='left')\n",
    "df.head()"
   ]
  },
  {
   "cell_type": "raw",
   "metadata": {},
   "source": [
    "# Data Description \n",
    "\n",
    "This data set has a million job postings with 9 attributes describing that posting. We exclude jobID and companyID from the dataset as they provide no useful information\n",
    "\n",
    "Attribute   Data Types     Description      Values                   %missing \n",
    "\n",
    "jobType     Ordinal       Job Title     Janitor,Jr. Manager,            0% \n",
    "                          /Position     Manager, Sr. Manager, \n",
    "                                        Vice President,CTO, CFO, CEO\n",
    "        \n",
    "Degree      Ordinal      Individual's   None, High School, Bachelors,   0% \n",
    "                                        Highest Degree Masters, Doctoral\n",
    "    \n",
    "Major       Nominal      Field the      None, Biology, Business,        0% \n",
    "individual Chemistry, Comp Sci, Engg, majored in Literature, Math, Physics\n",
    "\n",
    "Industry Nominal Market/Industry Auto, Education, Finance, 0% Health, Oil, Service, Web\n",
    "YearsExperience Interval Total no of years Range from 0 - 24 years 0% of experience\n",
    "Miles from Metro Interval Distance of job Range from 0 - 99 miles 0% location from nearest Metro\n",
    "Salary Interval Salary drawn Range from 0 - 301 K 0%"
   ]
  },
  {
   "cell_type": "markdown",
   "metadata": {},
   "source": [
    "# Data Quality\n",
    "\n",
    "Though there are no missing values in the dataset, there are some key attributes with 0 value and we examine those in greater detail -\n",
    "\n",
    "1) 0.0005% of the Salary data has 0 values (5 out of a million entries) We decide to delete these 5 entries as this is a very insignificant volume compared to total no of entries\n",
    "\n",
    "2) There are 53.23% entries with major as \"None\", 23.68% of degree as \"None\" - These are valid datapoints as there are cases of individuals with no majors or degrees with jobs. We decide to leave them as is for analysis\n",
    "\n",
    "There are no outliers in this data set. (Show Scatter plot matrix)\n",
    "\n",
    "Please note: This is a \"mock\" dataset provided by Indeed, hence this is missing some important attributes like company name, location / city, Skills"
   ]
  },
  {
   "cell_type": "code",
   "execution_count": null,
   "metadata": {
    "collapsed": false
   },
   "outputs": [],
   "source": []
  },
  {
   "cell_type": "markdown",
   "metadata": {},
   "source": [
    "The scatter plot matrix above shows the relationship of three attributes to each other.\n",
    "From this it can be seen that Years of experience and proximity to metropolis are directly correlated to salary. However there appears to be absolutely no correlation between years of experience and miles from metropolis. There is also no evidence of outliers"
   ]
  },
  {
   "cell_type": "code",
   "execution_count": 5,
   "metadata": {
    "collapsed": false
   },
   "outputs": [
    {
     "name": "stdout",
     "output_type": "stream",
     "text": [
      "<class 'pandas.core.frame.DataFrame'>\n",
      "Int64Index: 999995 entries, 0 to 999999\n",
      "Data columns (total 7 columns):\n",
      "jobType                999995 non-null object\n",
      "degree                 999995 non-null object\n",
      "major                  999995 non-null object\n",
      "industry               999995 non-null object\n",
      "yearsExperience        999995 non-null int64\n",
      "milesFromMetropolis    999995 non-null int64\n",
      "salary                 999995 non-null int64\n",
      "dtypes: int64(3), object(4)\n",
      "memory usage: 61.0+ MB\n"
     ]
    }
   ],
   "source": [
    "# Data Manipulations\n",
    "\n",
    "# Remove jobID and CompanyID\n",
    "if 'jobId' in df:\n",
    "    del df['jobId']    \n",
    "if 'companyId'in df:\n",
    "    del df['companyId']\n",
    "    \n",
    "# Remove the 5 entries with salary = 0\n",
    "df = df[df.salary != 0]\n",
    "\n",
    "df.info()"
   ]
  },
  {
   "cell_type": "markdown",
   "metadata": {},
   "source": [
    "We next create a new variable \"salTrue\" based on the Mean of the Salary. If the salary is > than Salary Mean, salTrue is True else it get the value False. This is in preparation for PCA and Logistic Regression"
   ]
  },
  {
   "cell_type": "code",
   "execution_count": 6,
   "metadata": {
    "collapsed": false,
    "scrolled": true
   },
   "outputs": [
    {
     "name": "stdout",
     "output_type": "stream",
     "text": [
      "116.062398312\n",
      "<class 'pandas.core.frame.DataFrame'>\n",
      "Int64Index: 999995 entries, 0 to 999999\n",
      "Data columns (total 8 columns):\n",
      "jobType                999995 non-null object\n",
      "degree                 999995 non-null object\n",
      "major                  999995 non-null object\n",
      "industry               999995 non-null object\n",
      "yearsExperience        999995 non-null int64\n",
      "milesFromMetropolis    999995 non-null int64\n",
      "salary                 999995 non-null int64\n",
      "salTrue                999995 non-null bool\n",
      "dtypes: bool(1), int64(3), object(4)\n",
      "memory usage: 62.0+ MB\n"
     ]
    },
    {
     "data": {
      "text/html": [
       "<div>\n",
       "<table border=\"1\" class=\"dataframe\">\n",
       "  <thead>\n",
       "    <tr style=\"text-align: right;\">\n",
       "      <th></th>\n",
       "      <th>jobType</th>\n",
       "      <th>degree</th>\n",
       "      <th>major</th>\n",
       "      <th>industry</th>\n",
       "      <th>yearsExperience</th>\n",
       "      <th>milesFromMetropolis</th>\n",
       "      <th>salary</th>\n",
       "      <th>salTrue</th>\n",
       "    </tr>\n",
       "  </thead>\n",
       "  <tbody>\n",
       "    <tr>\n",
       "      <th>0</th>\n",
       "      <td>CFO</td>\n",
       "      <td>MASTERS</td>\n",
       "      <td>MATH</td>\n",
       "      <td>HEALTH</td>\n",
       "      <td>10</td>\n",
       "      <td>83</td>\n",
       "      <td>130</td>\n",
       "      <td>True</td>\n",
       "    </tr>\n",
       "    <tr>\n",
       "      <th>1</th>\n",
       "      <td>CEO</td>\n",
       "      <td>HIGH_SCHOOL</td>\n",
       "      <td>NONE</td>\n",
       "      <td>WEB</td>\n",
       "      <td>3</td>\n",
       "      <td>73</td>\n",
       "      <td>101</td>\n",
       "      <td>False</td>\n",
       "    </tr>\n",
       "    <tr>\n",
       "      <th>2</th>\n",
       "      <td>VICE_PRESIDENT</td>\n",
       "      <td>DOCTORAL</td>\n",
       "      <td>PHYSICS</td>\n",
       "      <td>HEALTH</td>\n",
       "      <td>10</td>\n",
       "      <td>38</td>\n",
       "      <td>137</td>\n",
       "      <td>True</td>\n",
       "    </tr>\n",
       "    <tr>\n",
       "      <th>3</th>\n",
       "      <td>MANAGER</td>\n",
       "      <td>DOCTORAL</td>\n",
       "      <td>CHEMISTRY</td>\n",
       "      <td>AUTO</td>\n",
       "      <td>8</td>\n",
       "      <td>17</td>\n",
       "      <td>142</td>\n",
       "      <td>True</td>\n",
       "    </tr>\n",
       "    <tr>\n",
       "      <th>4</th>\n",
       "      <td>VICE_PRESIDENT</td>\n",
       "      <td>BACHELORS</td>\n",
       "      <td>PHYSICS</td>\n",
       "      <td>FINANCE</td>\n",
       "      <td>8</td>\n",
       "      <td>16</td>\n",
       "      <td>163</td>\n",
       "      <td>True</td>\n",
       "    </tr>\n",
       "  </tbody>\n",
       "</table>\n",
       "</div>"
      ],
      "text/plain": [
       "          jobType       degree      major industry  yearsExperience  \\\n",
       "0             CFO      MASTERS       MATH   HEALTH               10   \n",
       "1             CEO  HIGH_SCHOOL       NONE      WEB                3   \n",
       "2  VICE_PRESIDENT     DOCTORAL    PHYSICS   HEALTH               10   \n",
       "3         MANAGER     DOCTORAL  CHEMISTRY     AUTO                8   \n",
       "4  VICE_PRESIDENT    BACHELORS    PHYSICS  FINANCE                8   \n",
       "\n",
       "   milesFromMetropolis  salary salTrue  \n",
       "0                   83     130    True  \n",
       "1                   73     101   False  \n",
       "2                   38     137    True  \n",
       "3                   17     142    True  \n",
       "4                   16     163    True  "
      ]
     },
     "execution_count": 6,
     "metadata": {},
     "output_type": "execute_result"
    }
   ],
   "source": [
    "salMean = df.salary.mean()\n",
    "print salMean\n",
    "\n",
    "df['salTrue']=df.salary>salMean\n",
    "df.info()\n",
    "df.head()"
   ]
  },
  {
   "cell_type": "markdown",
   "metadata": {},
   "source": [
    "# Data Description & Manipulation\n"
   ]
  },
  {
   "cell_type": "code",
   "execution_count": 7,
   "metadata": {
    "collapsed": false
   },
   "outputs": [
    {
     "data": {
      "text/html": [
       "<div>\n",
       "<table border=\"1\" class=\"dataframe\">\n",
       "  <thead>\n",
       "    <tr style=\"text-align: right;\">\n",
       "      <th></th>\n",
       "      <th>yearsExperience</th>\n",
       "      <th>milesFromMetropolis</th>\n",
       "      <th>salary</th>\n",
       "    </tr>\n",
       "  </thead>\n",
       "  <tbody>\n",
       "    <tr>\n",
       "      <th>count</th>\n",
       "      <td>999995.000000</td>\n",
       "      <td>999995.000000</td>\n",
       "      <td>999995.000000</td>\n",
       "    </tr>\n",
       "    <tr>\n",
       "      <th>mean</th>\n",
       "      <td>11.992407</td>\n",
       "      <td>49.529381</td>\n",
       "      <td>116.062398</td>\n",
       "    </tr>\n",
       "    <tr>\n",
       "      <th>std</th>\n",
       "      <td>7.212390</td>\n",
       "      <td>28.877721</td>\n",
       "      <td>38.717163</td>\n",
       "    </tr>\n",
       "    <tr>\n",
       "      <th>min</th>\n",
       "      <td>0.000000</td>\n",
       "      <td>0.000000</td>\n",
       "      <td>17.000000</td>\n",
       "    </tr>\n",
       "    <tr>\n",
       "      <th>25%</th>\n",
       "      <td>6.000000</td>\n",
       "      <td>25.000000</td>\n",
       "      <td>88.000000</td>\n",
       "    </tr>\n",
       "    <tr>\n",
       "      <th>50%</th>\n",
       "      <td>12.000000</td>\n",
       "      <td>50.000000</td>\n",
       "      <td>114.000000</td>\n",
       "    </tr>\n",
       "    <tr>\n",
       "      <th>75%</th>\n",
       "      <td>18.000000</td>\n",
       "      <td>75.000000</td>\n",
       "      <td>141.000000</td>\n",
       "    </tr>\n",
       "    <tr>\n",
       "      <th>max</th>\n",
       "      <td>24.000000</td>\n",
       "      <td>99.000000</td>\n",
       "      <td>301.000000</td>\n",
       "    </tr>\n",
       "  </tbody>\n",
       "</table>\n",
       "</div>"
      ],
      "text/plain": [
       "       yearsExperience  milesFromMetropolis         salary\n",
       "count    999995.000000        999995.000000  999995.000000\n",
       "mean         11.992407            49.529381     116.062398\n",
       "std           7.212390            28.877721      38.717163\n",
       "min           0.000000             0.000000      17.000000\n",
       "25%           6.000000            25.000000      88.000000\n",
       "50%          12.000000            50.000000     114.000000\n",
       "75%          18.000000            75.000000     141.000000\n",
       "max          24.000000            99.000000     301.000000"
      ]
     },
     "execution_count": 7,
     "metadata": {},
     "output_type": "execute_result"
    }
   ],
   "source": [
    "df.describe()"
   ]
  },
  {
   "cell_type": "markdown",
   "metadata": {},
   "source": [
    "The above table shows the range, mean and counts of the continuous variables Years, miles and salary. The SalTrue variable is showing that the values with a salary higher than the mean of the data set is .4722% of the total salary of the data set as a whole.\n",
    "\n",
    "We next create dummy variables using one hot encoding for the categorical attributes - Job Type, Degree, Major and Industry to show the intricate relationships between the various categories."
   ]
  },
  {
   "cell_type": "code",
   "execution_count": 8,
   "metadata": {
    "collapsed": true
   },
   "outputs": [],
   "source": [
    "# Create function to change column order moving salary to the first integer attribute. This is needed for subsequent PCA analysis. \n",
    "def change_column_order(df, col_name, index):\n",
    "    cols = df.columns.tolist()\n",
    "    cols.remove(col_name)\n",
    "    cols.insert(index, col_name)\n",
    "    return df[cols]\n",
    "df = change_column_order(df, 'salary', 2)"
   ]
  },
  {
   "cell_type": "code",
   "execution_count": 9,
   "metadata": {
    "collapsed": true
   },
   "outputs": [],
   "source": [
    "# Create function to change column order moving salary to the first integer attribute. This is needed for subsequent PCA analysis. \n",
    "def change_column_order(df, col_name, index):\n",
    "    cols = df.columns.tolist()\n",
    "    cols.remove(col_name)\n",
    "    cols.insert(index, col_name)\n",
    "    return df[cols]\n",
    "df = change_column_order(df, 'salTrue', 3)"
   ]
  },
  {
   "cell_type": "code",
   "execution_count": 10,
   "metadata": {
    "collapsed": false
   },
   "outputs": [
    {
     "name": "stdout",
     "output_type": "stream",
     "text": [
      "<class 'pandas.core.frame.DataFrame'>\n",
      "Int64Index: 999995 entries, 0 to 999999\n",
      "Data columns (total 8 columns):\n",
      "jobType                999995 non-null object\n",
      "degree                 999995 non-null object\n",
      "salary                 999995 non-null int64\n",
      "salTrue                999995 non-null bool\n",
      "major                  999995 non-null object\n",
      "industry               999995 non-null object\n",
      "yearsExperience        999995 non-null int64\n",
      "milesFromMetropolis    999995 non-null int64\n",
      "dtypes: bool(1), int64(3), object(4)\n",
      "memory usage: 62.0+ MB\n"
     ]
    }
   ],
   "source": [
    "df.info()"
   ]
  },
  {
   "cell_type": "markdown",
   "metadata": {},
   "source": [
    "# Simple Statistics - (single Attributes)\n",
    "\n",
    "The below histogram detailing the frequency of salaries shows a fairly normal data distribution. The median is around 100K to 130K. The despiction would lead one to beleve that the values for salary are normally distributed across the data set allowing us to perform a bevie of statistical analysis tests on the data set with minimal transformation."
   ]
  },
  {
   "cell_type": "code",
   "execution_count": 11,
   "metadata": {
    "collapsed": false
   },
   "outputs": [
    {
     "data": {
      "text/plain": [
       "<matplotlib.axes._subplots.AxesSubplot at 0xbc362e8>"
      ]
     },
     "execution_count": 11,
     "metadata": {},
     "output_type": "execute_result"
    },
    {
     "data": {
      "image/png": "[encoded data removed]",
      "text/plain": [
       "<matplotlib.figure.Figure at 0x155deef0>"
      ]
     },
     "metadata": {},
     "output_type": "display_data"
    }
   ],
   "source": [
    "# Histogram of salaries \n",
    "dfs = df.salary\n",
    "dfs.plot.hist(by='salary',bins=50)\n",
    "#DataFrame.plot.hist(by=None, bins=10, **kwds)"
   ]
  },
  {
   "cell_type": "markdown",
   "metadata": {},
   "source": [
    "Below is a violin plot that shows the various salaries and distrubution. From this we can see that a majority of people are making in the low 100k range."
   ]
  },
  {
   "cell_type": "code",
   "execution_count": 12,
   "metadata": {
    "collapsed": false
   },
   "outputs": [
    {
     "data": {
      "image/png": "[encoded data removed]",
      "text/plain": [
       "<matplotlib.figure.Figure at 0x2cd2f160>"
      ]
     },
     "metadata": {},
     "output_type": "display_data"
    }
   ],
   "source": [
    "# Violin Plot\n",
    "sns.set_style(\"whitegrid\")\n",
    "ax = sns.violinplot(x=df[\"salary\"])"
   ]
  },
  {
   "cell_type": "code",
   "execution_count": 13,
   "metadata": {
    "collapsed": false
   },
   "outputs": [
    {
     "data": {
      "text/plain": [
       "<matplotlib.axes._subplots.AxesSubplot at 0x16f98128>"
      ]
     },
     "execution_count": 13,
     "metadata": {},
     "output_type": "execute_result"
    },
    {
     "data": {
      "image/png": "[encoded data removed]",
      "text/plain": [
       "<matplotlib.figure.Figure at 0x2a1fcf98>"
      ]
     },
     "metadata": {},
     "output_type": "display_data"
    }
   ],
   "source": [
    "# Pie Chart - By Industry\n",
    "df.industry.value_counts().plot(kind='pie', autopct='%.2f')"
   ]
  },
  {
   "cell_type": "markdown",
   "metadata": {},
   "source": [
    "The job postings are equally distributed (around 14.29% each) amongst the Industries. Showing that there are virtually an even number of data points for each industry."
   ]
  },
  {
   "cell_type": "code",
   "execution_count": 14,
   "metadata": {
    "collapsed": false
   },
   "outputs": [
    {
     "data": {
      "text/plain": [
       "<matplotlib.text.Text at 0x162e6978>"
      ]
     },
     "execution_count": 14,
     "metadata": {},
     "output_type": "execute_result"
    },
    {
     "data": {
      "image/png": "[encoded data removed]",
      "text/plain": [
       "<matplotlib.figure.Figure at 0x2a1e6e80>"
      ]
     },
     "metadata": {},
     "output_type": "display_data"
    }
   ],
   "source": [
    "# Bar graph - Average Salary per Job Type\n",
    "df_cjob = df.groupby(by=df.jobType).mean()\n",
    "jobSal = df_cjob.salary\n",
    "ax = jobSal.plot(kind='barh')\n",
    "ax.set_xlabel(\"Salary\")\n",
    "ax.set_ylabel(\"Job Type\")"
   ]
  },
  {
   "cell_type": "markdown",
   "metadata": {},
   "source": [
    "The above bar graph shows the salary distribution per Job Title showing that the salary average for the Executive jobs (CEO, CFO, CTO, VPs) are in the same range (120K-140K). The average salary for Sr, Jr and managers are in the range of 90K - 115K.\n",
    "\n",
    "The below graph shows the Salary range (max - min) amongst the positions by Job Type. The range of all positions (except Janitor) is in the similar range. \n"
   ]
  },
  {
   "cell_type": "code",
   "execution_count": 15,
   "metadata": {
    "collapsed": false
   },
   "outputs": [
    {
     "data": {
      "text/plain": [
       "<matplotlib.legend.Legend at 0x164bd518>"
      ]
     },
     "execution_count": 15,
     "metadata": {},
     "output_type": "execute_result"
    },
    {
     "data": {
      "image/png": "[encoded data removed]",
      "text/plain": [
       "<matplotlib.figure.Figure at 0x164bd908>"
      ]
     },
     "metadata": {},
     "output_type": "display_data"
    }
   ],
   "source": [
    "# Range of salary by JobType - SV - Need to check if this is ok\n",
    "df_jobType = df.groupby('jobType')\n",
    "\n",
    "minSal = df_jobType.salary.min()\n",
    "#print minSal\n",
    "maxSal = df_jobType.salary.max()\n",
    "#print maxSal\n",
    "salRange = maxSal - minSal\n",
    "#print salRange\n",
    "\n",
    "# Plot as stacked bar chart\n",
    "salRange.plot(kind='barh',\n",
    "             stacked=True,\n",
    "             title='Salary Range per Job Type',\n",
    "               color=['gold']\n",
    "             )\n",
    "\n",
    "plt.xlabel('Salary')\n",
    "plt.ylabel('Industry')\n",
    "plt.legend(loc='upper right')"
   ]
  },
  {
   "cell_type": "markdown",
   "metadata": {},
   "source": [
    "In the graph below it is shown what the correlation between years experince and salary is for each year of experience. This graph is incredibly helpful in determining what one should make based on years experience, and when they would be getting a great offer or a bad one. "
   ]
  },
  {
   "cell_type": "code",
   "execution_count": 16,
   "metadata": {
    "collapsed": false
   },
   "outputs": [
    {
     "data": {
      "text/plain": [
       "<matplotlib.axes._subplots.AxesSubplot at 0x2ff018d0>"
      ]
     },
     "execution_count": 16,
     "metadata": {},
     "output_type": "execute_result"
    },
    {
     "data": {
      "image/png": "[encoded data removed]",
      "text/plain": [
       "<matplotlib.figure.Figure at 0x2a1d4b00>"
      ]
     },
     "metadata": {},
     "output_type": "display_data"
    }
   ],
   "source": [
    "# Boxplots of  Grouped by jobType, YearsExp\n",
    "df.boxplot(column='salary', by = 'yearsExperience')"
   ]
  },
  {
   "cell_type": "markdown",
   "metadata": {},
   "source": [
    "The plot below was deemed necessary for the data set was to perform a box plot of salary in relation to degree achieved. As expected the highed degree achieved the higher the salary, with the exception of a doctoral degree, and masters degree being very similar in peak. Most likely a determinant of the fact that salaries in education are lower as a whole."
   ]
  },
  {
   "cell_type": "code",
   "execution_count": 17,
   "metadata": {
    "collapsed": false
   },
   "outputs": [
    {
     "data": {
      "text/plain": [
       "<matplotlib.axes._subplots.AxesSubplot at 0x2ca2eb38>"
      ]
     },
     "execution_count": 17,
     "metadata": {},
     "output_type": "execute_result"
    },
    {
     "data": {
      "image/png": "[encoded data removed]",
      "text/plain": [
       "<matplotlib.figure.Figure at 0xbb5d550>"
      ]
     },
     "metadata": {},
     "output_type": "display_data"
    }
   ],
   "source": [
    "#Lets do Boxplots of  Grouped by Job Type\n",
    "df.boxplot(column='salary', by = 'degree')"
   ]
  },
  {
   "cell_type": "markdown",
   "metadata": {},
   "source": [
    "# Data Visualization and Attribute Relationships\n"
   ]
  },
  {
   "cell_type": "code",
   "execution_count": 18,
   "metadata": {
    "collapsed": true
   },
   "outputs": [],
   "source": [
    "# We run the below scatter plot matrix to check the outliers and non-colinearity among the variables\n",
    "from pandas.tools.plotting import scatter_matrix\n",
    "\n",
    "ax1 = scatter_matrix(df, figsize=(15,10), diagonal='kde')"
   ]
  },
  {
   "cell_type": "markdown",
   "metadata": {},
   "source": [
    "The scatter plot matrix above shows the relationship of three attributes to each other. From this it can be seen that Years of experience and proximity to metropolis are directly correlated to salary. However there appears to be absolutely no correlation between years of experience and miles from metropolis. There is also no evidence of outliers"
   ]
  },
  {
   "cell_type": "code",
   "execution_count": 19,
   "metadata": {
    "collapsed": true
   },
   "outputs": [],
   "source": [
    "# Import matplot lib\n",
    "import matplotlib.pyplot as plt\n",
    "import warnings\n",
    "warnings.simplefilter('ignore', DeprecationWarning)\n",
    "%matplotlib inline"
   ]
  },
  {
   "cell_type": "code",
   "execution_count": 20,
   "metadata": {
    "collapsed": true
   },
   "outputs": [],
   "source": [
    "import seaborn as sns\n",
    "cmap = sns.diverging_palette(220,10, as_cmap=True)"
   ]
  },
  {
   "cell_type": "code",
   "execution_count": null,
   "metadata": {
    "collapsed": false
   },
   "outputs": [],
   "source": [
    "#Axis Grid\n",
    "sns.diverging_palette(145, 280, s=85, l=25, n=7)\n",
    "sns.pairplot(df, hue='jobType', size=2, palette=\"husl\", kind='reg')"
   ]
  },
  {
   "cell_type": "markdown",
   "metadata": {},
   "source": [
    "The above Pair Grid shows the relationship between Salary, Years of Experience and Miles From Metropolis and Job Type. The linear regression lines show that a Janitor will have a greater growth in salary as years of experience increases than any other job type. Also, as miles from metropolis increases, salary declines for a Janitor at a greater declining rate than any other job type. "
   ]
  },
  {
   "cell_type": "markdown",
   "metadata": {},
   "source": [
    "Due to the fact that it is planned to perform a Logistic Regression on the data set, \"dummy\" variables were created in order to help perform find possible values to project and fill."
   ]
  },
  {
   "cell_type": "code",
   "execution_count": null,
   "metadata": {
    "collapsed": false
   },
   "outputs": [],
   "source": [
    "df = pd.get_dummies(df, columns=['jobType', 'degree', 'major', 'industry'])"
   ]
  },
  {
   "cell_type": "code",
   "execution_count": null,
   "metadata": {
    "collapsed": true
   },
   "outputs": [],
   "source": [
    "#Create a list of Categorical Variables\n",
    "\n",
    "cSuiteJobs = ['jobType_CEO', 'jobType_CFO', 'jobType_CTO'];\n",
    "jobTypes = ['jobType_CEO', 'jobType_CFO', 'jobType_CTO', 'jobType_JANITOR','jobType_JUNIOR','jobType_MANAGER','jobType_SENIOR', 'jobType_VICE_PRESIDENT'];\n",
    "college = ['degree_BACHELORS', 'degree_DOCTORAL', 'degree_MASTERS'];\n",
    "high_School_or_More = ['degree_HIGH_SCHOOL','degree_BACHELORS', 'degree_DOCTORAL', 'degree_MASTERS'];\n",
    "majors = ['major_BIOLOGY', 'major_BUSINESS', 'major_CHEMISTRY', 'major_COMPSCI', 'major_ENGINEERING', 'major_MATH', 'major_PHYSICS'];\n",
    "industries = ['industry_AUTO', 'industry_EDUCATION', 'industry_FINANCE', 'industry_HEALTH', 'industry_OIL', 'industry_SERVICE', 'industry_WEB'];"
   ]
  },
  {
   "cell_type": "markdown",
   "metadata": {},
   "source": [
    "The incredible matrix shown below shows the positive and negative correlation between attributes. If the box is blue that would refer to a negative correlation or when one goes up the other goes down vice versa. Where as the red box depicts a positive correlation or they both go down and up together.\n",
    "Insights gained by this graph: From the graph there appears to be no correlation with officer level jobs and anything other than salary. Meaning education and years experience vary greatly for those high level jobs."
   ]
  },
  {
   "cell_type": "code",
   "execution_count": null,
   "metadata": {
    "collapsed": false
   },
   "outputs": [],
   "source": [
    "sns.set(style=\"white\")\n",
    "\n",
    "# Compute the correlation matrix\n",
    "corr = df.corr()\n",
    "\n",
    "# Generate a mask for the upper triangle\n",
    "#mask = np.zeros_like(corr, dtype=np.bool)\n",
    "#mask[np.triu_indices_from(mask)] = True\n",
    "\n",
    "# Set up the matplotlib figure\n",
    "f, ax = plt.subplots(figsize=(20, 15))\n",
    "\n",
    "# Draw the heatmap with the mask and correct aspect ratio\n",
    "sns.heatmap(corr, #annot=True, cmap=cmap, vmax=.3,\n",
    "            square=True, #xticklabels=2, #yticklabels=2,\n",
    "            linewidths=.5, cbar_kws={\"shrink\": .5}, ax=ax)"
   ]
  },
  {
   "cell_type": "markdown",
   "metadata": {},
   "source": [
    "Due to the size of the data set where on which the PCA is being performed some reduction must be performed in order to reduce time to execute. The below code splits the data in 30% blocks and executes the Principal Components Analysis. "
   ]
  },
  {
   "cell_type": "code",
   "execution_count": null,
   "metadata": {
    "collapsed": false
   },
   "outputs": [],
   "source": [
    "# Eigenvalues & EigenVectors\n",
    "# Splitting of that dataset into 30%\n",
    "\n",
    "from matplotlib.colors import ListedColormap\n",
    "from pandas.tools.plotting import scatter_plot\n",
    "from sklearn import datasets as ds\n",
    "from sklearn.cross_validation import train_test_split\n",
    "from sklearn.preprocessing import StandardScaler\n",
    "from sklearn.linear_model import LogisticRegression\n",
    "from sklearn.decomposition import PCA\n",
    "from sklearn.lda import LDA\n",
    "#Create X and Y Values from the Data Frame\n",
    "X, y, z=df.iloc[:, 4:].values, df.iloc[:, 2].values, df.iloc[:, 3]\n",
    "#print X, y, z\n",
    "X_train, X_test, y_train, y_test, z_train, z_test= \\\n",
    "    train_test_split(X, y, z,\n",
    "    test_size=0.7, random_state=0)\n",
    "sc = StandardScaler()\n",
    "X_train_std = sc.fit_transform(X_train)\n",
    "X_test_std = sc.transform(X_test)\n",
    "cov_mat = np.cov(X_train_std.T)\n",
    "eigen_vals, eigen_vecs = np.linalg.eig(cov_mat)\n",
    "print('\\nEigenValues \\n%s' % eigen_vals)\n",
    "print('\\nEigenVectors \\n%s' % eigen_vecs)"
   ]
  },
  {
   "cell_type": "code",
   "execution_count": null,
   "metadata": {
    "collapsed": false
   },
   "outputs": [],
   "source": [
    "# PCA\n",
    "tot = sum(eigen_vals)\n",
    "var_exp = [(i / tot) for i in sorted(eigen_vals, reverse=True)]\n",
    "cum_var_exp = np.cumsum(var_exp)\n",
    "plt.bar(range(1,30), var_exp, alpha=.5, align='center', label='individual explained variance')\n",
    "plt.step(range(1,30), cum_var_exp, where='mid', label='cumulative explained variance')\n",
    "plt.ylabel('Explained variance ratio')\n",
    "plt.xlabel('Principal components')\n",
    "plt.legend(loc='best')\n",
    "plt.show()"
   ]
  },
  {
   "cell_type": "markdown",
   "metadata": {},
   "source": [
    "From the Principal Component analysis it can be determined that principal components 1 and 2 are most significant and explain 90% of the variability in data. \n",
    "This means that the variables job title and years experience have a greater impact on salary than any other variables by a very wide margin."
   ]
  },
  {
   "cell_type": "code",
   "execution_count": null,
   "metadata": {
    "collapsed": false
   },
   "outputs": [],
   "source": [
    "#Sort the eigenpairs by decreasing order of the eigenvalues\n",
    "eigen_pairs =[(np.abs(eigen_vals[i]), eigen_vecs[:,i])\n",
    "              for i in range (len(eigen_vals))]\n",
    "eigen_pairs.sort (reverse=True)"
   ]
  },
  {
   "cell_type": "code",
   "execution_count": null,
   "metadata": {
    "collapsed": false
   },
   "outputs": [],
   "source": [
    "#Create a 31 x 2 Dimensional projectiion matrix from the top two eigenvectors.\n",
    "w= np.hstack((eigen_pairs[0][1][:, np.newaxis], \n",
    "             eigen_pairs[1][1][:, np.newaxis]))\n",
    "print('Matrix W:\\n', w)"
   ]
  },
  {
   "cell_type": "markdown",
   "metadata": {},
   "source": [
    "The projection is designed to show a dramatic reduction in dimensions. The Principal Componenets Analysis does this by sorting eigen values and vectors in acending order, then a projection matrix is created from the chosen eigen values. \n",
    "\n",
    "The values towards the bottom of the matrix are those that have less correspondence between the other eigenvectures, meaning that those values would be less appropriate in the analysis and therefore can be reduced from the analysis.\n",
    "\n",
    "The above matrix depicts the eigen vectors and corresponding eigen values. "
   ]
  },
  {
   "cell_type": "code",
   "execution_count": null,
   "metadata": {
    "collapsed": false
   },
   "outputs": [],
   "source": [
    "#Transform a sample X(represented as a 1X30 dimensional row vector) onto the PCA subspace obtaining the x', a two dimensional sample vector consisting of two new features\n",
    "\n",
    "#Transform the entire 300,000 x 30 dimensional training dataset onto the two principal components by calculating the matrix dot product.\n",
    "X_train_pca = X_train_std.dot(w)\n",
    "print X_train_pca"
   ]
  },
  {
   "cell_type": "code",
   "execution_count": null,
   "metadata": {
    "collapsed": false,
    "scrolled": false
   },
   "outputs": [],
   "source": [
    "#Perform PCA and LDA from Sci Kit Learn\n",
    "pca = PCA(n_components=2)\n",
    "lr = LogisticRegression()\n",
    "X_train_pca = pca.fit(X).transform(X)\n",
    "lda = LDA(n_components=2)\n",
    "X_train_lda = lda.fit(X, y).transform(X)\n",
    "#X_test_pca = pca.transform(X_test_std)\n",
    "#lr.fit(X_train_pca, y_train)\n",
    "#plot_decision_regions(X_train_pca, y_train, classifier=lr)\n",
    "#plt.xlabel('PC1')\n",
    "#plt.xlabel('PC2')\n",
    "#plt.legend(loc='lower left')\n",
    "#plt.show()\n",
    "print 'pca:', pca.components_,\n",
    "print 'lda:', lda.scalings_.T"
   ]
  },
  {
   "cell_type": "code",
   "execution_count": null,
   "metadata": {
    "collapsed": false
   },
   "outputs": [],
   "source": [
    "# Create a logistic regression model, and fit with X and y\n",
    "model = LogisticRegression()\n",
    "model = model.fit(X_train, z_train)\n",
    "\n",
    "# check the accuracy on the training set\n",
    "model.score(X_train, z_train)"
   ]
  },
  {
   "cell_type": "markdown",
   "metadata": {},
   "source": [
    "The above figure represents the percent of variability that the predictors have on determining if salary will be above or below the mean of the data set (the logistic regression response). "
   ]
  },
  {
   "cell_type": "code",
   "execution_count": null,
   "metadata": {
    "collapsed": false
   },
   "outputs": [],
   "source": [
    "# What Percentage Had Salary Greater Than the Mean?\n",
    "z_train.mean()"
   ]
  },
  {
   "cell_type": "code",
   "execution_count": null,
   "metadata": {
    "collapsed": false
   },
   "outputs": [],
   "source": [
    "#y, X = dmatrices('salTrue ~ yearsExperience + milesFromMetropolis + salary + jobType_CEO + jobType_CFO, + jobType_CTO + \\\n",
    "                #jobType_JANITOR + jobType_JUNIOR + jobType_MANAGER + jobType_SENIOR + jobType_VICE_PRESIDENT + degree_BACHELORS + \\\n",
    "                #degree_DOCTORAL + degree_HIGH_SCHOOL + degree_MASTERS + degree_NONE + major_BIOLOGY + major_BUSINESS + \\\n",
    "                #major_CHEMISTRY + major_COMPSCI + major_ENGINEERING + major_LITERATURE + major_MATH + major_NONE + \\\n",
    "                #major_PHYSICS + industry_AUTO + industry_EDUCATION + industry_FINANCE + industry_HEALTH + industry_OIL + \\\n",
    "                #industry_SERVICE + industry_WEB',\n",
    "                  #df, return_type=\"dataframe\")\n",
    "#print X.columns"
   ]
  },
  {
   "cell_type": "code",
   "execution_count": null,
   "metadata": {
    "collapsed": true
   },
   "outputs": [],
   "source": [
    "# Examine the coefficients. The intercept and the coefficients from the Logistic Regression Equation are printed below. \n",
    "print(model.intercept_)\n",
    "\n",
    "# Check trained model coefficients\n",
    "print(model.coef_)\n",
    "pd.DataFrame(zip(X_train, np.transpose(model.coef_)))"
   ]
  },
  {
   "cell_type": "markdown",
   "metadata": {},
   "source": [
    "The logistic regression equation is determined from the intercept and the coefficients above. "
   ]
  },
  {
   "cell_type": "markdown",
   "metadata": {
    "collapsed": true
   },
   "source": [
    "# Appendix\n",
    "\n",
    "Resources Used:\n",
    "S. Raschka (2015, September) \"Python Machine Learning\"\n",
    "\n",
    "\"Example of Logistic Regression Using Sci-Kit Learn\" http://www.dataschool.io/logistic-regression-in-python-using-scikit-learn/\n",
    "\n",
    "\"12 Useful Pandas Techniques in Python for Data Manipulation\" https://www.analyticsvidhya.com/blog/2016/01/12-pandas-techniques-python-data-manipulation/\n",
    "\n",
    "\"Seaborn Tutorial\" http://stanford.edu/~mwaskom/software/seaborn/tutorial.html\n",
    "\n",
    "\"How to Change the Order of Data Frame Columns\" http://stackoverflow.com/questions/13148429/how-to-change-the-order-of-dataframe-columns\n",
    "\n"
   ]
  },
  {
   "cell_type": "code",
   "execution_count": null,
   "metadata": {
    "collapsed": true
   },
   "outputs": [],
   "source": []
  }
 ],
 "metadata": {
  "anaconda-cloud": {},
  "kernelspec": {
   "display_name": "Python [Root]",
   "language": "python",
   "name": "Python [Root]"
  },
  "language_info": {
   "codemirror_mode": {
    "name": "ipython",
    "version": 2
   },
   "file_extension": ".py",
   "mimetype": "text/x-python",
   "name": "python",
   "nbconvert_exporter": "python",
   "pygments_lexer": "ipython2",
   "version": "2.7.12"
  }
 },
 "nbformat": 4,
 "nbformat_minor": 0
}
